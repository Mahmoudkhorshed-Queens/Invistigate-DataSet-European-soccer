{
 "cells": [
  {
   "cell_type": "markdown",
   "metadata": {},
   "source": [
    "\n",
    "# Project: Soccer DB Sql\n",
    "\n",
    "## Table of Contents\n",
    "<ul>\n",
    "<li><a href=\"#intro\">Introduction</a></li>\n",
    "<li><a href=\"#wrangling\">Data Wrangling</a></li>\n",
    "<li><a href=\"#eda\">Exploratory Data Analysis</a></li>\n",
    "<li><a href=\"#conclusions\">Conclusions</a></li>\n",
    "</ul>\n",
    "\n",
    "\n",
    "\n",
    "Copyrights MahmoudKhorshed 2022"
   ]
  },
  {
   "cell_type": "markdown",
   "metadata": {},
   "source": [
    "<a id='intro'></a>\n",
    "# Introduction\n",
    "## The ultimate Soccer database for data analysis \n",
    "### European Soccer Database\n",
    "\n"
   ]
  },
  {
   "cell_type": "markdown",
   "metadata": {},
   "source": [
    "##  We get Data for European Soccer Database (Players-Matches-Leagues) from 2008 to 2016\n",
    "### 1- Question 1   What teams improved the most over the time period ?   \n",
    "### 2- Question 2   Which players had the most penalties ?\n",
    "### 3- Question 3   What team attributes lead to the most victroies ?"
   ]
  },
  {
   "cell_type": "code",
   "execution_count": 1,
   "metadata": {},
   "outputs": [],
   "source": [
    "#import libraries\n",
    "import numpy as np\n",
    "import pandas as pd\n",
    "import matplotlib.pyplot as plt\n",
    "import seaborn as sns\n",
    "import sqlite3\n",
    "\n",
    "\n",
    "%matplotlib inline\n"
   ]
  },
  {
   "cell_type": "markdown",
   "metadata": {},
   "source": [
    "<a id='wrangling'></a>\n",
    "## Data Wrangling\n",
    "\n",
    "\n",
    "\n",
    "### General Properties"
   ]
  },
  {
   "cell_type": "code",
   "execution_count": 2,
   "metadata": {},
   "outputs": [
    {
     "data": {
      "text/plain": [
       "['Country',\n",
       " 'League',\n",
       " 'Match',\n",
       " 'Player',\n",
       " 'Player_Attributes',\n",
       " 'Team',\n",
       " 'Team_Attributes',\n",
       " 'sqlite_sequence']"
      ]
     },
     "execution_count": 2,
     "metadata": {},
     "output_type": "execute_result"
    }
   ],
   "source": [
    "# Load your data and print out a few lines. Perform operations to inspect data\n",
    "from sqlalchemy import create_engine\n",
    "engine=create_engine(\"sqlite:///database.sqlite\")\n",
    "#conn=engine.connect()\n",
    "engine.table_names()\n"
   ]
  },
  {
   "cell_type": "code",
   "execution_count": 3,
   "metadata": {},
   "outputs": [],
   "source": [
    "# convert database sql to Dataframes\n",
    "df_Country=pd.read_sql_query(\"\"\"SELECT *\n",
    "                                FROM Country ;\"\"\",engine)\n",
    "df_League=pd.read_sql_query(\"\"\"SELECT *\n",
    "                                FROM League ;\"\"\",engine)\n",
    "df_Match=pd.read_sql_query(\"\"\"SELECT *\n",
    "                               FROM Match ;\"\"\",engine)\n",
    "df_Team=pd.read_sql_query(\"\"\"SELECT *\n",
    "                              FROM Team ;\"\"\",engine)\n",
    "df_Player=pd.read_sql_query(\"\"\"SELECT *\n",
    "                              FROM Player ;\"\"\",engine)\n",
    "df_Team_Attributes=pd.read_sql_query(\"\"\"SELECT *\n",
    "                         FROM Team_Attributes ;\"\"\",engine)\n",
    "df_Player_Attributes=pd.read_sql_query(\"\"\"SELECT *\n",
    "                          FROM Player_Attributes ;\"\"\",engine)\n"
   ]
  },
  {
   "cell_type": "code",
   "execution_count": 4,
   "metadata": {},
   "outputs": [],
   "source": [
    "#save the data to csv files\n",
    "#df_Player_Attributes.to_csv('Player_Attributes',index=False)\n",
    "#df_Team_Attributes.to_csv('Team_Attributes',index=False)\n",
    "#df_Country.to_csv('Country.csv',index=False)\n",
    "#df_Player.to_csv('Player.csv',index=False)\n",
    "#df_League.to_csv('League.csv',index=False)\n",
    "#df_Match.to_csv('Match.csv',index=False)\n",
    "#df_Team.to_csv('Team.csv',index=False)\n",
    "\n"
   ]
  },
  {
   "cell_type": "markdown",
   "metadata": {},
   "source": [
    "## Define a function \n"
   ]
  },
  {
   "cell_type": "code",
   "execution_count": 5,
   "metadata": {},
   "outputs": [],
   "source": [
    "def Drop_columns(DataFrame,Name):\n",
    "    \n",
    "  \"\"\" this function Gets two argument \n",
    "  1- the specfied dataframe\n",
    "  2- any name in th columns\n",
    "  and drop any column contains partially or totally the 2nd argument (Name)\n",
    "  \"\"\" \n",
    "  for col in DataFrame.columns:\n",
    "        if Name in col:\n",
    "            DataFrame.drop(col,axis=1,inplace=True)\n",
    "\n",
    "### Another soln\n",
    "\n",
    "#Unused_col = ['team_fifa_api_id','id','buildUpPlaySpeedClass','buildUpPlayDribblingClass','buildUpPlayPassingClass','chanceCreationPassingClass','chanceCreationCrossingClass','buildUpPlayPositioningClass','chanceCreationShootingClass','chanceCreationPositioningClass','defencePressureClass','defenceAggressionClass','defenceTeamWidthClass','defenceDefenderLineClass']\n",
    "#df_Team_Attributes.drop(Unused_col,axis=1,inplace=True)\n",
    "\n",
    "        "
   ]
  },
  {
   "cell_type": "markdown",
   "metadata": {},
   "source": [
    "\n",
    "\n",
    "### Data Cleaning"
   ]
  },
  {
   "cell_type": "markdown",
   "metadata": {
    "collapsed": true
   },
   "source": [
    "Data Cleaning (Soccer dataset cleaning):\n",
    "\n",
    "1- We need to fill Nan cells in columns with numerical values with the mean value.              ##checked\n",
    "\n",
    "2- We need to remove the unused and unimportnat column like ('home_player_X1',B365D,WHH ) and their similar ###checked\n",
    "\n",
    "3- We need to remove the NaN cells from dataset. #checked\n",
    "\n",
    "4- We need to convert the dtype of column ('datetime') values to datetime dtype. ###checked\n",
    "\n",
    "5- We need to remove the unnecessary characters and strip spaces from these names.\n",
    "\n",
    "6- Save all these changes to a new csv file"
   ]
  },
  {
   "cell_type": "markdown",
   "metadata": {},
   "source": [
    "### i will work with DataFrames that should want to cleaned and assessed \n",
    "i.e \n",
    "\n",
    "1- Match\n",
    "\n",
    "2- Player Attributes\n",
    "\n",
    "3-Team Attributes\n",
    "\n",
    "4- Counrty-league"
   ]
  },
  {
   "cell_type": "markdown",
   "metadata": {},
   "source": [
    "### 1- fill Nan cell with numerical values"
   ]
  },
  {
   "cell_type": "code",
   "execution_count": 6,
   "metadata": {},
   "outputs": [
    {
     "data": {
      "text/plain": [
       "407395"
      ]
     },
     "execution_count": 6,
     "metadata": {},
     "output_type": "execute_result"
    }
   ],
   "source": [
    "# no of nan values in df_Match\n",
    "df_Match.isnull().sum().sum()"
   ]
  },
  {
   "cell_type": "code",
   "execution_count": 7,
   "metadata": {},
   "outputs": [
    {
     "data": {
      "text/plain": [
       "47301"
      ]
     },
     "execution_count": 7,
     "metadata": {},
     "output_type": "execute_result"
    }
   ],
   "source": [
    "# no of nan values in df_Player_Attributes\n",
    "\n",
    "df_Player_Attributes.isnull().sum().sum()"
   ]
  },
  {
   "cell_type": "code",
   "execution_count": 8,
   "metadata": {},
   "outputs": [
    {
     "data": {
      "text/plain": [
       "969"
      ]
     },
     "execution_count": 8,
     "metadata": {},
     "output_type": "execute_result"
    }
   ],
   "source": [
    "# no of nan values in df_Team_Attributes\n",
    "\n",
    "df_Team_Attributes.isnull().sum().sum()"
   ]
  },
  {
   "cell_type": "code",
   "execution_count": 9,
   "metadata": {
    "scrolled": true
   },
   "outputs": [
    {
     "data": {
      "text/html": [
       "<div>\n",
       "<style scoped>\n",
       "    .dataframe tbody tr th:only-of-type {\n",
       "        vertical-align: middle;\n",
       "    }\n",
       "\n",
       "    .dataframe tbody tr th {\n",
       "        vertical-align: top;\n",
       "    }\n",
       "\n",
       "    .dataframe thead th {\n",
       "        text-align: right;\n",
       "    }\n",
       "</style>\n",
       "<table border=\"1\" class=\"dataframe\">\n",
       "  <thead>\n",
       "    <tr style=\"text-align: right;\">\n",
       "      <th></th>\n",
       "      <th>id</th>\n",
       "      <th>team_fifa_api_id</th>\n",
       "      <th>team_api_id</th>\n",
       "      <th>date</th>\n",
       "      <th>buildUpPlaySpeed</th>\n",
       "      <th>buildUpPlaySpeedClass</th>\n",
       "      <th>buildUpPlayDribbling</th>\n",
       "      <th>buildUpPlayDribblingClass</th>\n",
       "      <th>buildUpPlayPassing</th>\n",
       "      <th>buildUpPlayPassingClass</th>\n",
       "      <th>...</th>\n",
       "      <th>chanceCreationShooting</th>\n",
       "      <th>chanceCreationShootingClass</th>\n",
       "      <th>chanceCreationPositioningClass</th>\n",
       "      <th>defencePressure</th>\n",
       "      <th>defencePressureClass</th>\n",
       "      <th>defenceAggression</th>\n",
       "      <th>defenceAggressionClass</th>\n",
       "      <th>defenceTeamWidth</th>\n",
       "      <th>defenceTeamWidthClass</th>\n",
       "      <th>defenceDefenderLineClass</th>\n",
       "    </tr>\n",
       "  </thead>\n",
       "  <tbody>\n",
       "    <tr>\n",
       "      <th>0</th>\n",
       "      <td>1</td>\n",
       "      <td>434</td>\n",
       "      <td>9930</td>\n",
       "      <td>2010-02-22 00:00:00</td>\n",
       "      <td>60</td>\n",
       "      <td>Balanced</td>\n",
       "      <td>NaN</td>\n",
       "      <td>Little</td>\n",
       "      <td>50</td>\n",
       "      <td>Mixed</td>\n",
       "      <td>...</td>\n",
       "      <td>55</td>\n",
       "      <td>Normal</td>\n",
       "      <td>Organised</td>\n",
       "      <td>50</td>\n",
       "      <td>Medium</td>\n",
       "      <td>55</td>\n",
       "      <td>Press</td>\n",
       "      <td>45</td>\n",
       "      <td>Normal</td>\n",
       "      <td>Cover</td>\n",
       "    </tr>\n",
       "    <tr>\n",
       "      <th>1</th>\n",
       "      <td>2</td>\n",
       "      <td>434</td>\n",
       "      <td>9930</td>\n",
       "      <td>2014-09-19 00:00:00</td>\n",
       "      <td>52</td>\n",
       "      <td>Balanced</td>\n",
       "      <td>48.0</td>\n",
       "      <td>Normal</td>\n",
       "      <td>56</td>\n",
       "      <td>Mixed</td>\n",
       "      <td>...</td>\n",
       "      <td>64</td>\n",
       "      <td>Normal</td>\n",
       "      <td>Organised</td>\n",
       "      <td>47</td>\n",
       "      <td>Medium</td>\n",
       "      <td>44</td>\n",
       "      <td>Press</td>\n",
       "      <td>54</td>\n",
       "      <td>Normal</td>\n",
       "      <td>Cover</td>\n",
       "    </tr>\n",
       "    <tr>\n",
       "      <th>2</th>\n",
       "      <td>3</td>\n",
       "      <td>434</td>\n",
       "      <td>9930</td>\n",
       "      <td>2015-09-10 00:00:00</td>\n",
       "      <td>47</td>\n",
       "      <td>Balanced</td>\n",
       "      <td>41.0</td>\n",
       "      <td>Normal</td>\n",
       "      <td>54</td>\n",
       "      <td>Mixed</td>\n",
       "      <td>...</td>\n",
       "      <td>64</td>\n",
       "      <td>Normal</td>\n",
       "      <td>Organised</td>\n",
       "      <td>47</td>\n",
       "      <td>Medium</td>\n",
       "      <td>44</td>\n",
       "      <td>Press</td>\n",
       "      <td>54</td>\n",
       "      <td>Normal</td>\n",
       "      <td>Cover</td>\n",
       "    </tr>\n",
       "    <tr>\n",
       "      <th>3</th>\n",
       "      <td>4</td>\n",
       "      <td>77</td>\n",
       "      <td>8485</td>\n",
       "      <td>2010-02-22 00:00:00</td>\n",
       "      <td>70</td>\n",
       "      <td>Fast</td>\n",
       "      <td>NaN</td>\n",
       "      <td>Little</td>\n",
       "      <td>70</td>\n",
       "      <td>Long</td>\n",
       "      <td>...</td>\n",
       "      <td>70</td>\n",
       "      <td>Lots</td>\n",
       "      <td>Organised</td>\n",
       "      <td>60</td>\n",
       "      <td>Medium</td>\n",
       "      <td>70</td>\n",
       "      <td>Double</td>\n",
       "      <td>70</td>\n",
       "      <td>Wide</td>\n",
       "      <td>Cover</td>\n",
       "    </tr>\n",
       "    <tr>\n",
       "      <th>4</th>\n",
       "      <td>5</td>\n",
       "      <td>77</td>\n",
       "      <td>8485</td>\n",
       "      <td>2011-02-22 00:00:00</td>\n",
       "      <td>47</td>\n",
       "      <td>Balanced</td>\n",
       "      <td>NaN</td>\n",
       "      <td>Little</td>\n",
       "      <td>52</td>\n",
       "      <td>Mixed</td>\n",
       "      <td>...</td>\n",
       "      <td>52</td>\n",
       "      <td>Normal</td>\n",
       "      <td>Organised</td>\n",
       "      <td>47</td>\n",
       "      <td>Medium</td>\n",
       "      <td>47</td>\n",
       "      <td>Press</td>\n",
       "      <td>52</td>\n",
       "      <td>Normal</td>\n",
       "      <td>Cover</td>\n",
       "    </tr>\n",
       "  </tbody>\n",
       "</table>\n",
       "<p>5 rows × 25 columns</p>\n",
       "</div>"
      ],
      "text/plain": [
       "   id  team_fifa_api_id  team_api_id                 date  buildUpPlaySpeed  \\\n",
       "0   1               434         9930  2010-02-22 00:00:00                60   \n",
       "1   2               434         9930  2014-09-19 00:00:00                52   \n",
       "2   3               434         9930  2015-09-10 00:00:00                47   \n",
       "3   4                77         8485  2010-02-22 00:00:00                70   \n",
       "4   5                77         8485  2011-02-22 00:00:00                47   \n",
       "\n",
       "  buildUpPlaySpeedClass  buildUpPlayDribbling buildUpPlayDribblingClass  \\\n",
       "0              Balanced                   NaN                    Little   \n",
       "1              Balanced                  48.0                    Normal   \n",
       "2              Balanced                  41.0                    Normal   \n",
       "3                  Fast                   NaN                    Little   \n",
       "4              Balanced                   NaN                    Little   \n",
       "\n",
       "   buildUpPlayPassing buildUpPlayPassingClass           ...             \\\n",
       "0                  50                   Mixed           ...              \n",
       "1                  56                   Mixed           ...              \n",
       "2                  54                   Mixed           ...              \n",
       "3                  70                    Long           ...              \n",
       "4                  52                   Mixed           ...              \n",
       "\n",
       "  chanceCreationShooting  chanceCreationShootingClass  \\\n",
       "0                     55                       Normal   \n",
       "1                     64                       Normal   \n",
       "2                     64                       Normal   \n",
       "3                     70                         Lots   \n",
       "4                     52                       Normal   \n",
       "\n",
       "  chanceCreationPositioningClass  defencePressure defencePressureClass  \\\n",
       "0                      Organised               50               Medium   \n",
       "1                      Organised               47               Medium   \n",
       "2                      Organised               47               Medium   \n",
       "3                      Organised               60               Medium   \n",
       "4                      Organised               47               Medium   \n",
       "\n",
       "   defenceAggression defenceAggressionClass defenceTeamWidth  \\\n",
       "0                 55                  Press               45   \n",
       "1                 44                  Press               54   \n",
       "2                 44                  Press               54   \n",
       "3                 70                 Double               70   \n",
       "4                 47                  Press               52   \n",
       "\n",
       "   defenceTeamWidthClass defenceDefenderLineClass  \n",
       "0                 Normal                    Cover  \n",
       "1                 Normal                    Cover  \n",
       "2                 Normal                    Cover  \n",
       "3                   Wide                    Cover  \n",
       "4                 Normal                    Cover  \n",
       "\n",
       "[5 rows x 25 columns]"
      ]
     },
     "execution_count": 9,
     "metadata": {},
     "output_type": "execute_result"
    }
   ],
   "source": [
    "#show the first five values\n",
    "df_Team_Attributes.head(5)"
   ]
  },
  {
   "cell_type": "code",
   "execution_count": 10,
   "metadata": {
    "scrolled": false
   },
   "outputs": [
    {
     "data": {
      "text/plain": [
       "Index(['id', 'team_fifa_api_id', 'team_api_id', 'date', 'buildUpPlaySpeed',\n",
       "       'buildUpPlaySpeedClass', 'buildUpPlayDribbling',\n",
       "       'buildUpPlayDribblingClass', 'buildUpPlayPassing',\n",
       "       'buildUpPlayPassingClass', 'buildUpPlayPositioningClass',\n",
       "       'chanceCreationPassing', 'chanceCreationPassingClass',\n",
       "       'chanceCreationCrossing', 'chanceCreationCrossingClass',\n",
       "       'chanceCreationShooting', 'chanceCreationShootingClass',\n",
       "       'chanceCreationPositioningClass', 'defencePressure',\n",
       "       'defencePressureClass', 'defenceAggression', 'defenceAggressionClass',\n",
       "       'defenceTeamWidth', 'defenceTeamWidthClass',\n",
       "       'defenceDefenderLineClass'],\n",
       "      dtype='object')"
      ]
     },
     "execution_count": 10,
     "metadata": {},
     "output_type": "execute_result"
    }
   ],
   "source": [
    "df_Team_Attributes.columns"
   ]
  },
  {
   "cell_type": "code",
   "execution_count": 11,
   "metadata": {
    "scrolled": false
   },
   "outputs": [
    {
     "data": {
      "text/html": [
       "<div>\n",
       "<style scoped>\n",
       "    .dataframe tbody tr th:only-of-type {\n",
       "        vertical-align: middle;\n",
       "    }\n",
       "\n",
       "    .dataframe tbody tr th {\n",
       "        vertical-align: top;\n",
       "    }\n",
       "\n",
       "    .dataframe thead th {\n",
       "        text-align: right;\n",
       "    }\n",
       "</style>\n",
       "<table border=\"1\" class=\"dataframe\">\n",
       "  <thead>\n",
       "    <tr style=\"text-align: right;\">\n",
       "      <th></th>\n",
       "      <th>id</th>\n",
       "      <th>country_id</th>\n",
       "      <th>league_id</th>\n",
       "      <th>season</th>\n",
       "      <th>stage</th>\n",
       "      <th>date</th>\n",
       "      <th>match_api_id</th>\n",
       "      <th>home_team_api_id</th>\n",
       "      <th>away_team_api_id</th>\n",
       "      <th>home_team_goal</th>\n",
       "      <th>...</th>\n",
       "      <th>SJA</th>\n",
       "      <th>VCH</th>\n",
       "      <th>VCD</th>\n",
       "      <th>VCA</th>\n",
       "      <th>GBH</th>\n",
       "      <th>GBD</th>\n",
       "      <th>GBA</th>\n",
       "      <th>BSH</th>\n",
       "      <th>BSD</th>\n",
       "      <th>BSA</th>\n",
       "    </tr>\n",
       "  </thead>\n",
       "  <tbody>\n",
       "    <tr>\n",
       "      <th>0</th>\n",
       "      <td>1</td>\n",
       "      <td>1</td>\n",
       "      <td>1</td>\n",
       "      <td>2008/2009</td>\n",
       "      <td>1</td>\n",
       "      <td>2008-08-17 00:00:00</td>\n",
       "      <td>492473</td>\n",
       "      <td>9987</td>\n",
       "      <td>9993</td>\n",
       "      <td>1</td>\n",
       "      <td>...</td>\n",
       "      <td>4.0</td>\n",
       "      <td>1.65</td>\n",
       "      <td>3.4</td>\n",
       "      <td>4.5</td>\n",
       "      <td>1.78</td>\n",
       "      <td>3.25</td>\n",
       "      <td>4.0</td>\n",
       "      <td>1.73</td>\n",
       "      <td>3.4</td>\n",
       "      <td>4.2</td>\n",
       "    </tr>\n",
       "  </tbody>\n",
       "</table>\n",
       "<p>1 rows × 115 columns</p>\n",
       "</div>"
      ],
      "text/plain": [
       "   id  country_id  league_id     season  stage                 date  \\\n",
       "0   1           1          1  2008/2009      1  2008-08-17 00:00:00   \n",
       "\n",
       "   match_api_id  home_team_api_id  away_team_api_id  home_team_goal ...   SJA  \\\n",
       "0        492473              9987              9993               1 ...   4.0   \n",
       "\n",
       "    VCH  VCD  VCA   GBH   GBD  GBA   BSH  BSD  BSA  \n",
       "0  1.65  3.4  4.5  1.78  3.25  4.0  1.73  3.4  4.2  \n",
       "\n",
       "[1 rows x 115 columns]"
      ]
     },
     "execution_count": 11,
     "metadata": {},
     "output_type": "execute_result"
    }
   ],
   "source": [
    "df_Match.head(1)"
   ]
  },
  {
   "cell_type": "code",
   "execution_count": 12,
   "metadata": {},
   "outputs": [
    {
     "data": {
      "text/plain": [
       "Index(['id', 'country_id', 'league_id', 'season', 'stage', 'date',\n",
       "       'match_api_id', 'home_team_api_id', 'away_team_api_id',\n",
       "       'home_team_goal',\n",
       "       ...\n",
       "       'SJA', 'VCH', 'VCD', 'VCA', 'GBH', 'GBD', 'GBA', 'BSH', 'BSD', 'BSA'],\n",
       "      dtype='object', length=115)"
      ]
     },
     "execution_count": 12,
     "metadata": {},
     "output_type": "execute_result"
    }
   ],
   "source": [
    "df_Match.columns"
   ]
  },
  {
   "cell_type": "code",
   "execution_count": 13,
   "metadata": {},
   "outputs": [],
   "source": [
    "#drop unused columns\n",
    "df_Match.drop(df_Match.columns[11:],axis=1,inplace=True)"
   ]
  },
  {
   "cell_type": "code",
   "execution_count": 14,
   "metadata": {
    "scrolled": true
   },
   "outputs": [
    {
     "data": {
      "text/plain": [
       "Index(['id', 'country_id', 'league_id', 'season', 'stage', 'date',\n",
       "       'match_api_id', 'home_team_api_id', 'away_team_api_id',\n",
       "       'home_team_goal', 'away_team_goal'],\n",
       "      dtype='object')"
      ]
     },
     "execution_count": 14,
     "metadata": {},
     "output_type": "execute_result"
    }
   ],
   "source": [
    "df_Match.columns"
   ]
  },
  {
   "cell_type": "code",
   "execution_count": 15,
   "metadata": {
    "scrolled": true
   },
   "outputs": [],
   "source": [
    "#fill NAN values numric with mean values in df_match\n",
    "df_Match.fillna(df_Match.mean(),inplace=True)"
   ]
  },
  {
   "cell_type": "code",
   "execution_count": 16,
   "metadata": {
    "scrolled": true
   },
   "outputs": [
    {
     "data": {
      "text/plain": [
       "0"
      ]
     },
     "execution_count": 16,
     "metadata": {},
     "output_type": "execute_result"
    }
   ],
   "source": [
    "#check if there are NAN values or Not\n",
    "df_Match.isnull().sum().sum()"
   ]
  },
  {
   "cell_type": "code",
   "execution_count": 17,
   "metadata": {},
   "outputs": [
    {
     "data": {
      "text/plain": [
       "Index(['id', 'player_fifa_api_id', 'player_api_id', 'date', 'overall_rating',\n",
       "       'potential', 'preferred_foot', 'attacking_work_rate',\n",
       "       'defensive_work_rate', 'crossing', 'finishing', 'heading_accuracy',\n",
       "       'short_passing', 'volleys', 'dribbling', 'curve', 'free_kick_accuracy',\n",
       "       'long_passing', 'ball_control', 'acceleration', 'sprint_speed',\n",
       "       'agility', 'reactions', 'balance', 'shot_power', 'jumping', 'stamina',\n",
       "       'strength', 'long_shots', 'aggression', 'interceptions', 'positioning',\n",
       "       'vision', 'penalties', 'marking', 'standing_tackle', 'sliding_tackle',\n",
       "       'gk_diving', 'gk_handling', 'gk_kicking', 'gk_positioning',\n",
       "       'gk_reflexes'],\n",
       "      dtype='object')"
      ]
     },
     "execution_count": 17,
     "metadata": {},
     "output_type": "execute_result"
    }
   ],
   "source": [
    "df_Player_Attributes.columns"
   ]
  },
  {
   "cell_type": "code",
   "execution_count": 18,
   "metadata": {},
   "outputs": [],
   "source": [
    "#drop unused columns\n",
    "df_Player_Attributes.drop(df_Player_Attributes.columns[5:33],axis=1,inplace=True) #33 unitl penalties\n"
   ]
  },
  {
   "cell_type": "code",
   "execution_count": 19,
   "metadata": {},
   "outputs": [],
   "source": [
    "df_Player_Attributes.drop(df_Player_Attributes.columns[6:],axis=1,inplace=True) #6 after penalties\n"
   ]
  },
  {
   "cell_type": "code",
   "execution_count": 20,
   "metadata": {
    "scrolled": true
   },
   "outputs": [
    {
     "data": {
      "text/plain": [
       "Index(['id', 'player_fifa_api_id', 'player_api_id', 'date', 'overall_rating',\n",
       "       'penalties'],\n",
       "      dtype='object')"
      ]
     },
     "execution_count": 20,
     "metadata": {},
     "output_type": "execute_result"
    }
   ],
   "source": [
    "df_Player_Attributes.columns"
   ]
  },
  {
   "cell_type": "code",
   "execution_count": 21,
   "metadata": {
    "scrolled": true
   },
   "outputs": [
    {
     "data": {
      "text/plain": [
       "id                      0\n",
       "player_fifa_api_id      0\n",
       "player_api_id           0\n",
       "date                    0\n",
       "overall_rating        836\n",
       "penalties             836\n",
       "dtype: int64"
      ]
     },
     "execution_count": 21,
     "metadata": {},
     "output_type": "execute_result"
    }
   ],
   "source": [
    "#check if there are NAN values or Not\n",
    "df_Player_Attributes.isnull().sum()"
   ]
  },
  {
   "cell_type": "code",
   "execution_count": 22,
   "metadata": {},
   "outputs": [],
   "source": [
    "df_Player_Attributes.drop(['overall_rating'],axis=1,inplace=True) #remove columns over all rating because it is unuseful\n"
   ]
  },
  {
   "cell_type": "code",
   "execution_count": 23,
   "metadata": {},
   "outputs": [],
   "source": [
    "#we fill nan values (969 ) in df_Team_Attributes\n",
    "df_Team_Attributes.fillna(df_Team_Attributes.mean(),inplace=True)"
   ]
  },
  {
   "cell_type": "code",
   "execution_count": 24,
   "metadata": {},
   "outputs": [
    {
     "data": {
      "text/plain": [
       "0"
      ]
     },
     "execution_count": 24,
     "metadata": {},
     "output_type": "execute_result"
    }
   ],
   "source": [
    "df_Team_Attributes.isnull().sum().sum()"
   ]
  },
  {
   "cell_type": "code",
   "execution_count": 25,
   "metadata": {},
   "outputs": [
    {
     "data": {
      "text/plain": [
       "836"
      ]
     },
     "execution_count": 25,
     "metadata": {},
     "output_type": "execute_result"
    }
   ],
   "source": [
    "df_Player_Attributes.isnull().sum().sum()"
   ]
  },
  {
   "cell_type": "markdown",
   "metadata": {},
   "source": [
    "### 2- drop unused columns"
   ]
  },
  {
   "cell_type": "code",
   "execution_count": 26,
   "metadata": {},
   "outputs": [
    {
     "data": {
      "text/plain": [
       "0"
      ]
     },
     "execution_count": 26,
     "metadata": {},
     "output_type": "execute_result"
    }
   ],
   "source": [
    "#check duplicated data\n",
    "df_Match.duplicated().sum()\n"
   ]
  },
  {
   "cell_type": "code",
   "execution_count": 27,
   "metadata": {},
   "outputs": [
    {
     "data": {
      "text/plain": [
       "0"
      ]
     },
     "execution_count": 27,
     "metadata": {},
     "output_type": "execute_result"
    }
   ],
   "source": [
    "#check duplicated data\n",
    "df_Team_Attributes.duplicated().sum()"
   ]
  },
  {
   "cell_type": "code",
   "execution_count": 28,
   "metadata": {},
   "outputs": [
    {
     "data": {
      "text/plain": [
       "0"
      ]
     },
     "execution_count": 28,
     "metadata": {},
     "output_type": "execute_result"
    }
   ],
   "source": [
    "#check duplicated data\n",
    "df_Player_Attributes.duplicated().sum()"
   ]
  },
  {
   "cell_type": "code",
   "execution_count": 29,
   "metadata": {},
   "outputs": [],
   "source": [
    "#remove duplicated data if there are !\n",
    "df_Match.drop_duplicates(inplace=True)\n"
   ]
  },
  {
   "cell_type": "code",
   "execution_count": 30,
   "metadata": {},
   "outputs": [
    {
     "data": {
      "text/plain": [
       "Index(['id', 'team_fifa_api_id', 'team_api_id', 'date', 'buildUpPlaySpeed',\n",
       "       'buildUpPlayDribbling', 'buildUpPlayPassing', 'chanceCreationPassing',\n",
       "       'chanceCreationCrossing', 'chanceCreationShooting', 'defencePressure',\n",
       "       'defenceAggression', 'defenceTeamWidth'],\n",
       "      dtype='object')"
      ]
     },
     "execution_count": 30,
     "metadata": {},
     "output_type": "execute_result"
    }
   ],
   "source": [
    "## drop columns in  team attributes using Function i created at first \n",
    "Drop_columns(df_Team_Attributes,'Class')            \n",
    "df_Team_Attributes.columns"
   ]
  },
  {
   "cell_type": "code",
   "execution_count": 31,
   "metadata": {},
   "outputs": [
    {
     "data": {
      "text/plain": [
       "Index(['team_api_id', 'team_fifa_api_id', 'team_long_name'], dtype='object')"
      ]
     },
     "execution_count": 31,
     "metadata": {},
     "output_type": "execute_result"
    }
   ],
   "source": [
    "df_Team.drop(['id','team_short_name'],axis=1,inplace=True)\n",
    "df_Team.columns"
   ]
  },
  {
   "cell_type": "code",
   "execution_count": 32,
   "metadata": {},
   "outputs": [],
   "source": [
    "#remove specified unused columns\n",
    "df_Match.drop(['id','stage','match_api_id','date'],axis=1,inplace=True)\n"
   ]
  },
  {
   "cell_type": "code",
   "execution_count": 33,
   "metadata": {},
   "outputs": [],
   "source": [
    "df_Player_Attributes.drop(['id','date'],axis=1,inplace=True) \n"
   ]
  },
  {
   "cell_type": "code",
   "execution_count": 34,
   "metadata": {
    "scrolled": false
   },
   "outputs": [
    {
     "data": {
      "text/plain": [
       "player_fifa_api_id      int64\n",
       "player_api_id           int64\n",
       "penalties             float64\n",
       "dtype: object"
      ]
     },
     "execution_count": 34,
     "metadata": {},
     "output_type": "execute_result"
    }
   ],
   "source": [
    "#get data types of columns\n",
    "df_Player_Attributes.dtypes"
   ]
  },
  {
   "cell_type": "code",
   "execution_count": 35,
   "metadata": {
    "scrolled": false
   },
   "outputs": [
    {
     "data": {
      "text/html": [
       "<div>\n",
       "<style scoped>\n",
       "    .dataframe tbody tr th:only-of-type {\n",
       "        vertical-align: middle;\n",
       "    }\n",
       "\n",
       "    .dataframe tbody tr th {\n",
       "        vertical-align: top;\n",
       "    }\n",
       "\n",
       "    .dataframe thead th {\n",
       "        text-align: right;\n",
       "    }\n",
       "</style>\n",
       "<table border=\"1\" class=\"dataframe\">\n",
       "  <thead>\n",
       "    <tr style=\"text-align: right;\">\n",
       "      <th></th>\n",
       "      <th>country_id</th>\n",
       "      <th>league_id</th>\n",
       "      <th>season</th>\n",
       "      <th>home_team_api_id</th>\n",
       "      <th>away_team_api_id</th>\n",
       "      <th>home_team_goal</th>\n",
       "      <th>away_team_goal</th>\n",
       "    </tr>\n",
       "  </thead>\n",
       "  <tbody>\n",
       "    <tr>\n",
       "      <th>0</th>\n",
       "      <td>1</td>\n",
       "      <td>1</td>\n",
       "      <td>2008/2009</td>\n",
       "      <td>9987</td>\n",
       "      <td>9993</td>\n",
       "      <td>1</td>\n",
       "      <td>1</td>\n",
       "    </tr>\n",
       "  </tbody>\n",
       "</table>\n",
       "</div>"
      ],
      "text/plain": [
       "   country_id  league_id     season  home_team_api_id  away_team_api_id  \\\n",
       "0           1          1  2008/2009              9987              9993   \n",
       "\n",
       "   home_team_goal  away_team_goal  \n",
       "0               1               1  "
      ]
     },
     "execution_count": 35,
     "metadata": {},
     "output_type": "execute_result"
    }
   ],
   "source": [
    "df_Match.head(1) "
   ]
  },
  {
   "cell_type": "code",
   "execution_count": 36,
   "metadata": {},
   "outputs": [
    {
     "data": {
      "text/html": [
       "<div>\n",
       "<style scoped>\n",
       "    .dataframe tbody tr th:only-of-type {\n",
       "        vertical-align: middle;\n",
       "    }\n",
       "\n",
       "    .dataframe tbody tr th {\n",
       "        vertical-align: top;\n",
       "    }\n",
       "\n",
       "    .dataframe thead th {\n",
       "        text-align: right;\n",
       "    }\n",
       "</style>\n",
       "<table border=\"1\" class=\"dataframe\">\n",
       "  <thead>\n",
       "    <tr style=\"text-align: right;\">\n",
       "      <th></th>\n",
       "      <th>player_fifa_api_id</th>\n",
       "      <th>player_api_id</th>\n",
       "      <th>penalties</th>\n",
       "    </tr>\n",
       "  </thead>\n",
       "  <tbody>\n",
       "    <tr>\n",
       "      <th>0</th>\n",
       "      <td>218353</td>\n",
       "      <td>505942</td>\n",
       "      <td>48.0</td>\n",
       "    </tr>\n",
       "  </tbody>\n",
       "</table>\n",
       "</div>"
      ],
      "text/plain": [
       "   player_fifa_api_id  player_api_id  penalties\n",
       "0              218353         505942       48.0"
      ]
     },
     "execution_count": 36,
     "metadata": {},
     "output_type": "execute_result"
    }
   ],
   "source": [
    "df_Player_Attributes.head(1)\n"
   ]
  },
  {
   "cell_type": "code",
   "execution_count": 37,
   "metadata": {},
   "outputs": [
    {
     "data": {
      "text/html": [
       "<div>\n",
       "<style scoped>\n",
       "    .dataframe tbody tr th:only-of-type {\n",
       "        vertical-align: middle;\n",
       "    }\n",
       "\n",
       "    .dataframe tbody tr th {\n",
       "        vertical-align: top;\n",
       "    }\n",
       "\n",
       "    .dataframe thead th {\n",
       "        text-align: right;\n",
       "    }\n",
       "</style>\n",
       "<table border=\"1\" class=\"dataframe\">\n",
       "  <thead>\n",
       "    <tr style=\"text-align: right;\">\n",
       "      <th></th>\n",
       "      <th>id</th>\n",
       "      <th>team_fifa_api_id</th>\n",
       "      <th>team_api_id</th>\n",
       "      <th>date</th>\n",
       "      <th>buildUpPlaySpeed</th>\n",
       "      <th>buildUpPlayDribbling</th>\n",
       "      <th>buildUpPlayPassing</th>\n",
       "      <th>chanceCreationPassing</th>\n",
       "      <th>chanceCreationCrossing</th>\n",
       "      <th>chanceCreationShooting</th>\n",
       "      <th>defencePressure</th>\n",
       "      <th>defenceAggression</th>\n",
       "      <th>defenceTeamWidth</th>\n",
       "    </tr>\n",
       "  </thead>\n",
       "  <tbody>\n",
       "    <tr>\n",
       "      <th>0</th>\n",
       "      <td>1</td>\n",
       "      <td>434</td>\n",
       "      <td>9930</td>\n",
       "      <td>2010-02-22 00:00:00</td>\n",
       "      <td>60</td>\n",
       "      <td>48.607362</td>\n",
       "      <td>50</td>\n",
       "      <td>60</td>\n",
       "      <td>65</td>\n",
       "      <td>55</td>\n",
       "      <td>50</td>\n",
       "      <td>55</td>\n",
       "      <td>45</td>\n",
       "    </tr>\n",
       "  </tbody>\n",
       "</table>\n",
       "</div>"
      ],
      "text/plain": [
       "   id  team_fifa_api_id  team_api_id                 date  buildUpPlaySpeed  \\\n",
       "0   1               434         9930  2010-02-22 00:00:00                60   \n",
       "\n",
       "   buildUpPlayDribbling  buildUpPlayPassing  chanceCreationPassing  \\\n",
       "0             48.607362                  50                     60   \n",
       "\n",
       "   chanceCreationCrossing  chanceCreationShooting  defencePressure  \\\n",
       "0                      65                      55               50   \n",
       "\n",
       "   defenceAggression  defenceTeamWidth  \n",
       "0                 55                45  "
      ]
     },
     "execution_count": 37,
     "metadata": {},
     "output_type": "execute_result"
    }
   ],
   "source": [
    "df_Team_Attributes.head(1)"
   ]
  },
  {
   "cell_type": "markdown",
   "metadata": {},
   "source": [
    "### 3- drop Nan cells "
   ]
  },
  {
   "cell_type": "code",
   "execution_count": 38,
   "metadata": {
    "scrolled": true
   },
   "outputs": [
    {
     "data": {
      "text/plain": [
       "country_id          0\n",
       "league_id           0\n",
       "season              0\n",
       "home_team_api_id    0\n",
       "away_team_api_id    0\n",
       "home_team_goal      0\n",
       "away_team_goal      0\n",
       "dtype: int64"
      ]
     },
     "execution_count": 38,
     "metadata": {},
     "output_type": "execute_result"
    }
   ],
   "source": [
    "df_Match.isnull().sum()\n",
    "#there are no Nan cells"
   ]
  },
  {
   "cell_type": "code",
   "execution_count": 39,
   "metadata": {},
   "outputs": [
    {
     "data": {
      "text/plain": [
       "player_fifa_api_id      0\n",
       "player_api_id           0\n",
       "penalties             836\n",
       "dtype: int64"
      ]
     },
     "execution_count": 39,
     "metadata": {},
     "output_type": "execute_result"
    }
   ],
   "source": [
    "df_Player_Attributes.isnull().sum()"
   ]
  },
  {
   "cell_type": "markdown",
   "metadata": {},
   "source": [
    "### 4- convert dtypes "
   ]
  },
  {
   "cell_type": "code",
   "execution_count": 40,
   "metadata": {
    "scrolled": true
   },
   "outputs": [
    {
     "data": {
      "text/plain": [
       "id                                 int64\n",
       "team_fifa_api_id                   int64\n",
       "team_api_id                        int64\n",
       "date                      datetime64[ns]\n",
       "buildUpPlaySpeed                   int64\n",
       "buildUpPlayDribbling             float64\n",
       "buildUpPlayPassing                 int64\n",
       "chanceCreationPassing              int64\n",
       "chanceCreationCrossing             int64\n",
       "chanceCreationShooting             int64\n",
       "defencePressure                    int64\n",
       "defenceAggression                  int64\n",
       "defenceTeamWidth                   int64\n",
       "dtype: object"
      ]
     },
     "execution_count": 40,
     "metadata": {},
     "output_type": "execute_result"
    }
   ],
   "source": [
    "#convert object data type to datetime type\n",
    "df_Team_Attributes['date']=pd.to_datetime(df_Team_Attributes['date'])\n",
    "df_Team_Attributes.dtypes"
   ]
  },
  {
   "cell_type": "code",
   "execution_count": 41,
   "metadata": {},
   "outputs": [
    {
     "data": {
      "text/plain": [
       "id                                 int64\n",
       "team_fifa_api_id                   int64\n",
       "team_api_id                        int64\n",
       "date                      datetime64[ns]\n",
       "buildUpPlaySpeed                   int64\n",
       "buildUpPlayDribbling               int64\n",
       "buildUpPlayPassing                 int64\n",
       "chanceCreationPassing              int64\n",
       "chanceCreationCrossing             int64\n",
       "chanceCreationShooting             int64\n",
       "defencePressure                    int64\n",
       "defenceAggression                  int64\n",
       "defenceTeamWidth                   int64\n",
       "dtype: object"
      ]
     },
     "execution_count": 41,
     "metadata": {},
     "output_type": "execute_result"
    }
   ],
   "source": [
    "### convert  buildUpPlayDribbling  (Float to  Int)\n",
    "df_Team_Attributes['buildUpPlayDribbling']=df_Team_Attributes['buildUpPlayDribbling'].astype(int)\n",
    "df_Team_Attributes.dtypes"
   ]
  },
  {
   "cell_type": "markdown",
   "metadata": {},
   "source": [
    "### 5- remove the unnecessary characters and strip spaces"
   ]
  },
  {
   "cell_type": "code",
   "execution_count": 42,
   "metadata": {
    "scrolled": true
   },
   "outputs": [
    {
     "data": {
      "text/html": [
       "<div>\n",
       "<style scoped>\n",
       "    .dataframe tbody tr th:only-of-type {\n",
       "        vertical-align: middle;\n",
       "    }\n",
       "\n",
       "    .dataframe tbody tr th {\n",
       "        vertical-align: top;\n",
       "    }\n",
       "\n",
       "    .dataframe thead th {\n",
       "        text-align: right;\n",
       "    }\n",
       "</style>\n",
       "<table border=\"1\" class=\"dataframe\">\n",
       "  <thead>\n",
       "    <tr style=\"text-align: right;\">\n",
       "      <th></th>\n",
       "      <th>country_id</th>\n",
       "      <th>league_id</th>\n",
       "      <th>season</th>\n",
       "      <th>home_team_api_id</th>\n",
       "      <th>away_team_api_id</th>\n",
       "      <th>home_team_goal</th>\n",
       "      <th>away_team_goal</th>\n",
       "    </tr>\n",
       "  </thead>\n",
       "  <tbody>\n",
       "    <tr>\n",
       "      <th>0</th>\n",
       "      <td>1</td>\n",
       "      <td>1</td>\n",
       "      <td>2008/2009</td>\n",
       "      <td>9987</td>\n",
       "      <td>9993</td>\n",
       "      <td>1</td>\n",
       "      <td>1</td>\n",
       "    </tr>\n",
       "    <tr>\n",
       "      <th>1</th>\n",
       "      <td>1</td>\n",
       "      <td>1</td>\n",
       "      <td>2008/2009</td>\n",
       "      <td>10000</td>\n",
       "      <td>9994</td>\n",
       "      <td>0</td>\n",
       "      <td>0</td>\n",
       "    </tr>\n",
       "    <tr>\n",
       "      <th>2</th>\n",
       "      <td>1</td>\n",
       "      <td>1</td>\n",
       "      <td>2008/2009</td>\n",
       "      <td>9984</td>\n",
       "      <td>8635</td>\n",
       "      <td>0</td>\n",
       "      <td>3</td>\n",
       "    </tr>\n",
       "    <tr>\n",
       "      <th>3</th>\n",
       "      <td>1</td>\n",
       "      <td>1</td>\n",
       "      <td>2008/2009</td>\n",
       "      <td>9991</td>\n",
       "      <td>9998</td>\n",
       "      <td>5</td>\n",
       "      <td>0</td>\n",
       "    </tr>\n",
       "    <tr>\n",
       "      <th>4</th>\n",
       "      <td>1</td>\n",
       "      <td>1</td>\n",
       "      <td>2008/2009</td>\n",
       "      <td>7947</td>\n",
       "      <td>9985</td>\n",
       "      <td>1</td>\n",
       "      <td>3</td>\n",
       "    </tr>\n",
       "  </tbody>\n",
       "</table>\n",
       "</div>"
      ],
      "text/plain": [
       "   country_id  league_id     season  home_team_api_id  away_team_api_id  \\\n",
       "0           1          1  2008/2009              9987              9993   \n",
       "1           1          1  2008/2009             10000              9994   \n",
       "2           1          1  2008/2009              9984              8635   \n",
       "3           1          1  2008/2009              9991              9998   \n",
       "4           1          1  2008/2009              7947              9985   \n",
       "\n",
       "   home_team_goal  away_team_goal  \n",
       "0               1               1  \n",
       "1               0               0  \n",
       "2               0               3  \n",
       "3               5               0  \n",
       "4               1               3  "
      ]
     },
     "execution_count": 42,
     "metadata": {},
     "output_type": "execute_result"
    }
   ],
   "source": [
    "df_Match.rename(columns=lambda x:x.strip().lower().replace(\" \",\"_\"),inplace=True)\n",
    "df_Match.head()"
   ]
  },
  {
   "cell_type": "markdown",
   "metadata": {},
   "source": [
    "### 6- save the cleaned data\n"
   ]
  },
  {
   "cell_type": "code",
   "execution_count": 43,
   "metadata": {},
   "outputs": [],
   "source": [
    "df_Match_cleaned=df_Match\n",
    "df_Match_cleaned.to_csv('MatchCL.csv',index=False)"
   ]
  },
  {
   "cell_type": "code",
   "execution_count": 44,
   "metadata": {},
   "outputs": [],
   "source": [
    "df_Player_Attributes_cleaned=df_Player_Attributes\n",
    "df_Player_Attributes_cleaned.to_csv('Player_Attributes_CL.csv',index=False)"
   ]
  },
  {
   "cell_type": "code",
   "execution_count": 45,
   "metadata": {},
   "outputs": [],
   "source": [
    "df_Team_Attributes_cleaned=df_Team_Attributes\n",
    "df_Team_Attributes_cleaned.to_csv('df_Team_Attributes_CL.csv',index=False)"
   ]
  },
  {
   "cell_type": "markdown",
   "metadata": {},
   "source": [
    "<a id='eda'></a>\n",
    "## Exploratory Data Analysis\n",
    "\n",
    "<a id='Quest1'></a>\n",
    "\n",
    "# Research  Question 1  What team attributes lead to the most victroies ?"
   ]
  },
  {
   "cell_type": "markdown",
   "metadata": {},
   "source": [
    "### First we Join DataFrame (Country+League)"
   ]
  },
  {
   "cell_type": "code",
   "execution_count": 46,
   "metadata": {
    "scrolled": true
   },
   "outputs": [
    {
     "data": {
      "text/html": [
       "<div>\n",
       "<style scoped>\n",
       "    .dataframe tbody tr th:only-of-type {\n",
       "        vertical-align: middle;\n",
       "    }\n",
       "\n",
       "    .dataframe tbody tr th {\n",
       "        vertical-align: top;\n",
       "    }\n",
       "\n",
       "    .dataframe thead th {\n",
       "        text-align: right;\n",
       "    }\n",
       "</style>\n",
       "<table border=\"1\" class=\"dataframe\">\n",
       "  <thead>\n",
       "    <tr style=\"text-align: right;\">\n",
       "      <th></th>\n",
       "      <th>id</th>\n",
       "      <th>country_id</th>\n",
       "      <th>name_x</th>\n",
       "      <th>name_y</th>\n",
       "    </tr>\n",
       "  </thead>\n",
       "  <tbody>\n",
       "    <tr>\n",
       "      <th>0</th>\n",
       "      <td>1</td>\n",
       "      <td>1</td>\n",
       "      <td>Belgium Jupiler League</td>\n",
       "      <td>Belgium</td>\n",
       "    </tr>\n",
       "  </tbody>\n",
       "</table>\n",
       "</div>"
      ],
      "text/plain": [
       "   id  country_id                  name_x   name_y\n",
       "0   1           1  Belgium Jupiler League  Belgium"
      ]
     },
     "execution_count": 46,
     "metadata": {},
     "output_type": "execute_result"
    }
   ],
   "source": [
    "df_Country_League=pd.merge(df_League,df_Country,on='id',how='inner')\n",
    "df_Country_League.head(1)"
   ]
  },
  {
   "cell_type": "markdown",
   "metadata": {},
   "source": [
    "### Drop unused columns"
   ]
  },
  {
   "cell_type": "code",
   "execution_count": 47,
   "metadata": {},
   "outputs": [],
   "source": [
    "df_Country_League.drop(['id'],axis=1,inplace=True);\n"
   ]
  },
  {
   "cell_type": "markdown",
   "metadata": {},
   "source": [
    "### Rename columns with Appropiate names "
   ]
  },
  {
   "cell_type": "code",
   "execution_count": 48,
   "metadata": {
    "scrolled": true
   },
   "outputs": [
    {
     "data": {
      "text/html": [
       "<div>\n",
       "<style scoped>\n",
       "    .dataframe tbody tr th:only-of-type {\n",
       "        vertical-align: middle;\n",
       "    }\n",
       "\n",
       "    .dataframe tbody tr th {\n",
       "        vertical-align: top;\n",
       "    }\n",
       "\n",
       "    .dataframe thead th {\n",
       "        text-align: right;\n",
       "    }\n",
       "</style>\n",
       "<table border=\"1\" class=\"dataframe\">\n",
       "  <thead>\n",
       "    <tr style=\"text-align: right;\">\n",
       "      <th></th>\n",
       "      <th>country_id</th>\n",
       "      <th>League_Name</th>\n",
       "      <th>Country_Name</th>\n",
       "    </tr>\n",
       "  </thead>\n",
       "  <tbody>\n",
       "    <tr>\n",
       "      <th>0</th>\n",
       "      <td>1</td>\n",
       "      <td>Belgium Jupiler League</td>\n",
       "      <td>Belgium</td>\n",
       "    </tr>\n",
       "  </tbody>\n",
       "</table>\n",
       "</div>"
      ],
      "text/plain": [
       "   country_id             League_Name Country_Name\n",
       "0           1  Belgium Jupiler League      Belgium"
      ]
     },
     "execution_count": 48,
     "metadata": {},
     "output_type": "execute_result"
    }
   ],
   "source": [
    "df_Country_League.rename(columns = {'name_x': 'League_Name', 'name_y': 'Country_Name'}, inplace =True)\n",
    "df_Country_League.head(1)"
   ]
  },
  {
   "cell_type": "markdown",
   "metadata": {},
   "source": [
    "### Second we Join DataFrame (Team + Team_Attributes)\n"
   ]
  },
  {
   "cell_type": "code",
   "execution_count": 49,
   "metadata": {
    "scrolled": true
   },
   "outputs": [
    {
     "data": {
      "text/html": [
       "<div>\n",
       "<style scoped>\n",
       "    .dataframe tbody tr th:only-of-type {\n",
       "        vertical-align: middle;\n",
       "    }\n",
       "\n",
       "    .dataframe tbody tr th {\n",
       "        vertical-align: top;\n",
       "    }\n",
       "\n",
       "    .dataframe thead th {\n",
       "        text-align: right;\n",
       "    }\n",
       "</style>\n",
       "<table border=\"1\" class=\"dataframe\">\n",
       "  <thead>\n",
       "    <tr style=\"text-align: right;\">\n",
       "      <th></th>\n",
       "      <th>team_api_id</th>\n",
       "      <th>team_fifa_api_id</th>\n",
       "      <th>team_long_name</th>\n",
       "    </tr>\n",
       "  </thead>\n",
       "  <tbody>\n",
       "    <tr>\n",
       "      <th>0</th>\n",
       "      <td>9987</td>\n",
       "      <td>673.0</td>\n",
       "      <td>KRC Genk</td>\n",
       "    </tr>\n",
       "  </tbody>\n",
       "</table>\n",
       "</div>"
      ],
      "text/plain": [
       "   team_api_id  team_fifa_api_id team_long_name\n",
       "0         9987             673.0       KRC Genk"
      ]
     },
     "execution_count": 49,
     "metadata": {},
     "output_type": "execute_result"
    }
   ],
   "source": [
    "df_Team.head(1)"
   ]
  },
  {
   "cell_type": "code",
   "execution_count": 50,
   "metadata": {
    "scrolled": true
   },
   "outputs": [
    {
     "data": {
      "text/html": [
       "<div>\n",
       "<style scoped>\n",
       "    .dataframe tbody tr th:only-of-type {\n",
       "        vertical-align: middle;\n",
       "    }\n",
       "\n",
       "    .dataframe tbody tr th {\n",
       "        vertical-align: top;\n",
       "    }\n",
       "\n",
       "    .dataframe thead th {\n",
       "        text-align: right;\n",
       "    }\n",
       "</style>\n",
       "<table border=\"1\" class=\"dataframe\">\n",
       "  <thead>\n",
       "    <tr style=\"text-align: right;\">\n",
       "      <th></th>\n",
       "      <th>id</th>\n",
       "      <th>team_fifa_api_id</th>\n",
       "      <th>team_api_id</th>\n",
       "      <th>date</th>\n",
       "      <th>buildUpPlaySpeed</th>\n",
       "      <th>buildUpPlayDribbling</th>\n",
       "      <th>buildUpPlayPassing</th>\n",
       "      <th>chanceCreationPassing</th>\n",
       "      <th>chanceCreationCrossing</th>\n",
       "      <th>chanceCreationShooting</th>\n",
       "      <th>defencePressure</th>\n",
       "      <th>defenceAggression</th>\n",
       "      <th>defenceTeamWidth</th>\n",
       "    </tr>\n",
       "  </thead>\n",
       "  <tbody>\n",
       "    <tr>\n",
       "      <th>0</th>\n",
       "      <td>1</td>\n",
       "      <td>434</td>\n",
       "      <td>9930</td>\n",
       "      <td>2010-02-22</td>\n",
       "      <td>60</td>\n",
       "      <td>48</td>\n",
       "      <td>50</td>\n",
       "      <td>60</td>\n",
       "      <td>65</td>\n",
       "      <td>55</td>\n",
       "      <td>50</td>\n",
       "      <td>55</td>\n",
       "      <td>45</td>\n",
       "    </tr>\n",
       "  </tbody>\n",
       "</table>\n",
       "</div>"
      ],
      "text/plain": [
       "   id  team_fifa_api_id  team_api_id       date  buildUpPlaySpeed  \\\n",
       "0   1               434         9930 2010-02-22                60   \n",
       "\n",
       "   buildUpPlayDribbling  buildUpPlayPassing  chanceCreationPassing  \\\n",
       "0                    48                  50                     60   \n",
       "\n",
       "   chanceCreationCrossing  chanceCreationShooting  defencePressure  \\\n",
       "0                      65                      55               50   \n",
       "\n",
       "   defenceAggression  defenceTeamWidth  \n",
       "0                 55                45  "
      ]
     },
     "execution_count": 50,
     "metadata": {},
     "output_type": "execute_result"
    }
   ],
   "source": [
    "df_Team_Attributes_cleaned.head(1)"
   ]
  },
  {
   "cell_type": "code",
   "execution_count": 51,
   "metadata": {},
   "outputs": [
    {
     "name": "stdout",
     "output_type": "stream",
     "text": [
      "<class 'pandas.core.frame.DataFrame'>\n",
      "RangeIndex: 299 entries, 0 to 298\n",
      "Data columns (total 3 columns):\n",
      "team_api_id         299 non-null int64\n",
      "team_fifa_api_id    288 non-null float64\n",
      "team_long_name      299 non-null object\n",
      "dtypes: float64(1), int64(1), object(1)\n",
      "memory usage: 7.1+ KB\n",
      "<class 'pandas.core.frame.DataFrame'>\n",
      "RangeIndex: 1458 entries, 0 to 1457\n",
      "Data columns (total 13 columns):\n",
      "id                        1458 non-null int64\n",
      "team_fifa_api_id          1458 non-null int64\n",
      "team_api_id               1458 non-null int64\n",
      "date                      1458 non-null datetime64[ns]\n",
      "buildUpPlaySpeed          1458 non-null int64\n",
      "buildUpPlayDribbling      1458 non-null int64\n",
      "buildUpPlayPassing        1458 non-null int64\n",
      "chanceCreationPassing     1458 non-null int64\n",
      "chanceCreationCrossing    1458 non-null int64\n",
      "chanceCreationShooting    1458 non-null int64\n",
      "defencePressure           1458 non-null int64\n",
      "defenceAggression         1458 non-null int64\n",
      "defenceTeamWidth          1458 non-null int64\n",
      "dtypes: datetime64[ns](1), int64(12)\n",
      "memory usage: 148.2 KB\n"
     ]
    }
   ],
   "source": [
    "df_Team.info()\n",
    "df_Team_Attributes_cleaned.info()"
   ]
  },
  {
   "cell_type": "code",
   "execution_count": 52,
   "metadata": {
    "scrolled": false
   },
   "outputs": [
    {
     "data": {
      "text/html": [
       "<div>\n",
       "<style scoped>\n",
       "    .dataframe tbody tr th:only-of-type {\n",
       "        vertical-align: middle;\n",
       "    }\n",
       "\n",
       "    .dataframe tbody tr th {\n",
       "        vertical-align: top;\n",
       "    }\n",
       "\n",
       "    .dataframe thead th {\n",
       "        text-align: right;\n",
       "    }\n",
       "</style>\n",
       "<table border=\"1\" class=\"dataframe\">\n",
       "  <thead>\n",
       "    <tr style=\"text-align: right;\">\n",
       "      <th></th>\n",
       "      <th>team_api_id</th>\n",
       "      <th>team_fifa_api_id</th>\n",
       "      <th>team_long_name</th>\n",
       "      <th>id</th>\n",
       "      <th>date</th>\n",
       "      <th>buildUpPlaySpeed</th>\n",
       "      <th>buildUpPlayDribbling</th>\n",
       "      <th>buildUpPlayPassing</th>\n",
       "      <th>chanceCreationPassing</th>\n",
       "      <th>chanceCreationCrossing</th>\n",
       "      <th>chanceCreationShooting</th>\n",
       "      <th>defencePressure</th>\n",
       "      <th>defenceAggression</th>\n",
       "      <th>defenceTeamWidth</th>\n",
       "    </tr>\n",
       "  </thead>\n",
       "  <tbody>\n",
       "    <tr>\n",
       "      <th>0</th>\n",
       "      <td>9987</td>\n",
       "      <td>673.0</td>\n",
       "      <td>KRC Genk</td>\n",
       "      <td>485</td>\n",
       "      <td>2010-02-22</td>\n",
       "      <td>45</td>\n",
       "      <td>48</td>\n",
       "      <td>45</td>\n",
       "      <td>50</td>\n",
       "      <td>35</td>\n",
       "      <td>60</td>\n",
       "      <td>70</td>\n",
       "      <td>65</td>\n",
       "      <td>70</td>\n",
       "    </tr>\n",
       "  </tbody>\n",
       "</table>\n",
       "</div>"
      ],
      "text/plain": [
       "   team_api_id  team_fifa_api_id team_long_name   id       date  \\\n",
       "0         9987             673.0       KRC Genk  485 2010-02-22   \n",
       "\n",
       "   buildUpPlaySpeed  buildUpPlayDribbling  buildUpPlayPassing  \\\n",
       "0                45                    48                  45   \n",
       "\n",
       "   chanceCreationPassing  chanceCreationCrossing  chanceCreationShooting  \\\n",
       "0                     50                      35                      60   \n",
       "\n",
       "   defencePressure  defenceAggression  defenceTeamWidth  \n",
       "0               70                 65                70  "
      ]
     },
     "execution_count": 52,
     "metadata": {},
     "output_type": "execute_result"
    }
   ],
   "source": [
    "#merge data frame (team , team_attributes)\n",
    "df_Team_Name_att=pd.merge(df_Team,df_Team_Attributes_cleaned,on=['team_api_id','team_fifa_api_id'],how='inner')\n",
    "df_Team_Name_att.head(1)"
   ]
  },
  {
   "cell_type": "code",
   "execution_count": 53,
   "metadata": {},
   "outputs": [
    {
     "name": "stdout",
     "output_type": "stream",
     "text": [
      "<class 'pandas.core.frame.DataFrame'>\n",
      "Int64Index: 1458 entries, 0 to 1457\n",
      "Data columns (total 14 columns):\n",
      "team_api_id               1458 non-null int64\n",
      "team_fifa_api_id          1458 non-null float64\n",
      "team_long_name            1458 non-null object\n",
      "id                        1458 non-null int64\n",
      "date                      1458 non-null datetime64[ns]\n",
      "buildUpPlaySpeed          1458 non-null int64\n",
      "buildUpPlayDribbling      1458 non-null int64\n",
      "buildUpPlayPassing        1458 non-null int64\n",
      "chanceCreationPassing     1458 non-null int64\n",
      "chanceCreationCrossing    1458 non-null int64\n",
      "chanceCreationShooting    1458 non-null int64\n",
      "defencePressure           1458 non-null int64\n",
      "defenceAggression         1458 non-null int64\n",
      "defenceTeamWidth          1458 non-null int64\n",
      "dtypes: datetime64[ns](1), float64(1), int64(11), object(1)\n",
      "memory usage: 170.9+ KB\n"
     ]
    }
   ],
   "source": [
    "df_Team_Name_att.info()"
   ]
  },
  {
   "cell_type": "markdown",
   "metadata": {},
   "source": [
    "### Third We merge Match with Country_league"
   ]
  },
  {
   "cell_type": "code",
   "execution_count": 54,
   "metadata": {
    "scrolled": true
   },
   "outputs": [
    {
     "data": {
      "text/html": [
       "<div>\n",
       "<style scoped>\n",
       "    .dataframe tbody tr th:only-of-type {\n",
       "        vertical-align: middle;\n",
       "    }\n",
       "\n",
       "    .dataframe tbody tr th {\n",
       "        vertical-align: top;\n",
       "    }\n",
       "\n",
       "    .dataframe thead th {\n",
       "        text-align: right;\n",
       "    }\n",
       "</style>\n",
       "<table border=\"1\" class=\"dataframe\">\n",
       "  <thead>\n",
       "    <tr style=\"text-align: right;\">\n",
       "      <th></th>\n",
       "      <th>country_id</th>\n",
       "      <th>league_id</th>\n",
       "      <th>season</th>\n",
       "      <th>home_team_api_id</th>\n",
       "      <th>away_team_api_id</th>\n",
       "      <th>home_team_goal</th>\n",
       "      <th>away_team_goal</th>\n",
       "      <th>League_Name</th>\n",
       "      <th>Country_Name</th>\n",
       "    </tr>\n",
       "  </thead>\n",
       "  <tbody>\n",
       "    <tr>\n",
       "      <th>0</th>\n",
       "      <td>1</td>\n",
       "      <td>1</td>\n",
       "      <td>2008/2009</td>\n",
       "      <td>9987</td>\n",
       "      <td>9993</td>\n",
       "      <td>1</td>\n",
       "      <td>1</td>\n",
       "      <td>Belgium Jupiler League</td>\n",
       "      <td>Belgium</td>\n",
       "    </tr>\n",
       "  </tbody>\n",
       "</table>\n",
       "</div>"
      ],
      "text/plain": [
       "   country_id  league_id     season  home_team_api_id  away_team_api_id  \\\n",
       "0           1          1  2008/2009              9987              9993   \n",
       "\n",
       "   home_team_goal  away_team_goal             League_Name Country_Name  \n",
       "0               1               1  Belgium Jupiler League      Belgium  "
      ]
     },
     "execution_count": 54,
     "metadata": {},
     "output_type": "execute_result"
    }
   ],
   "source": [
    "df_Match_Coun_Leag=pd.merge(df_Match_cleaned,df_Country_League,on=['country_id'],how='inner')\n",
    "df_Match_Coun_Leag.head(1)"
   ]
  },
  {
   "cell_type": "code",
   "execution_count": 55,
   "metadata": {},
   "outputs": [
    {
     "data": {
      "text/html": [
       "<div>\n",
       "<style scoped>\n",
       "    .dataframe tbody tr th:only-of-type {\n",
       "        vertical-align: middle;\n",
       "    }\n",
       "\n",
       "    .dataframe tbody tr th {\n",
       "        vertical-align: top;\n",
       "    }\n",
       "\n",
       "    .dataframe thead th {\n",
       "        text-align: right;\n",
       "    }\n",
       "</style>\n",
       "<table border=\"1\" class=\"dataframe\">\n",
       "  <thead>\n",
       "    <tr style=\"text-align: right;\">\n",
       "      <th></th>\n",
       "      <th>season</th>\n",
       "      <th>home_team_api_id</th>\n",
       "      <th>away_team_api_id</th>\n",
       "      <th>home_team_goal</th>\n",
       "      <th>away_team_goal</th>\n",
       "      <th>League_Name</th>\n",
       "      <th>Country_Name</th>\n",
       "    </tr>\n",
       "  </thead>\n",
       "  <tbody>\n",
       "    <tr>\n",
       "      <th>0</th>\n",
       "      <td>2008/2009</td>\n",
       "      <td>9987</td>\n",
       "      <td>9993</td>\n",
       "      <td>1</td>\n",
       "      <td>1</td>\n",
       "      <td>Belgium Jupiler League</td>\n",
       "      <td>Belgium</td>\n",
       "    </tr>\n",
       "    <tr>\n",
       "      <th>1</th>\n",
       "      <td>2008/2009</td>\n",
       "      <td>10000</td>\n",
       "      <td>9994</td>\n",
       "      <td>0</td>\n",
       "      <td>0</td>\n",
       "      <td>Belgium Jupiler League</td>\n",
       "      <td>Belgium</td>\n",
       "    </tr>\n",
       "  </tbody>\n",
       "</table>\n",
       "</div>"
      ],
      "text/plain": [
       "      season  home_team_api_id  away_team_api_id  home_team_goal  \\\n",
       "0  2008/2009              9987              9993               1   \n",
       "1  2008/2009             10000              9994               0   \n",
       "\n",
       "   away_team_goal             League_Name Country_Name  \n",
       "0               1  Belgium Jupiler League      Belgium  \n",
       "1               0  Belgium Jupiler League      Belgium  "
      ]
     },
     "execution_count": 55,
     "metadata": {},
     "output_type": "execute_result"
    }
   ],
   "source": [
    "df_Match_Coun_Leag.drop(['country_id','league_id'],axis=1,inplace=True) #remove unused column\n",
    "df_Match_Coun_Leag.head(2)\n"
   ]
  },
  {
   "cell_type": "code",
   "execution_count": 56,
   "metadata": {
    "scrolled": true
   },
   "outputs": [
    {
     "data": {
      "text/html": [
       "<div>\n",
       "<style scoped>\n",
       "    .dataframe tbody tr th:only-of-type {\n",
       "        vertical-align: middle;\n",
       "    }\n",
       "\n",
       "    .dataframe tbody tr th {\n",
       "        vertical-align: top;\n",
       "    }\n",
       "\n",
       "    .dataframe thead th {\n",
       "        text-align: right;\n",
       "    }\n",
       "</style>\n",
       "<table border=\"1\" class=\"dataframe\">\n",
       "  <thead>\n",
       "    <tr style=\"text-align: right;\">\n",
       "      <th></th>\n",
       "      <th>League_Name</th>\n",
       "      <th>Country_Name</th>\n",
       "      <th>season</th>\n",
       "      <th>home_team_api_id</th>\n",
       "      <th>away_team_api_id</th>\n",
       "      <th>home_team_goal</th>\n",
       "      <th>away_team_goal</th>\n",
       "    </tr>\n",
       "  </thead>\n",
       "  <tbody>\n",
       "    <tr>\n",
       "      <th>0</th>\n",
       "      <td>Belgium Jupiler League</td>\n",
       "      <td>Belgium</td>\n",
       "      <td>2008/2009</td>\n",
       "      <td>9987</td>\n",
       "      <td>9993</td>\n",
       "      <td>1</td>\n",
       "      <td>1</td>\n",
       "    </tr>\n",
       "  </tbody>\n",
       "</table>\n",
       "</div>"
      ],
      "text/plain": [
       "              League_Name Country_Name     season  home_team_api_id  \\\n",
       "0  Belgium Jupiler League      Belgium  2008/2009              9987   \n",
       "\n",
       "   away_team_api_id  home_team_goal  away_team_goal  \n",
       "0              9993               1               1  "
      ]
     },
     "execution_count": 56,
     "metadata": {},
     "output_type": "execute_result"
    }
   ],
   "source": [
    "### order the columns\n",
    "df_Match_Coun_Leag=df_Match_Coun_Leag[['League_Name','Country_Name','season','home_team_api_id','away_team_api_id','home_team_goal','away_team_goal']]\n",
    "df_Match_Coun_Leag.head(1)"
   ]
  },
  {
   "cell_type": "code",
   "execution_count": 57,
   "metadata": {},
   "outputs": [],
   "source": [
    "df_Team_Name_att.drop(['team_fifa_api_id','id'],axis=True,inplace=True) #drop unused columns"
   ]
  },
  {
   "cell_type": "code",
   "execution_count": 58,
   "metadata": {},
   "outputs": [],
   "source": [
    "df_Team_Name_att.rename(columns = {'date': 'date_update_level','team_long_name':'team_name'}, inplace =True)\n"
   ]
  },
  {
   "cell_type": "code",
   "execution_count": 59,
   "metadata": {},
   "outputs": [],
   "source": [
    "df_Team_Name_att.drop(['date_update_level'],axis=True,inplace=True) #drop unused columns"
   ]
  },
  {
   "cell_type": "code",
   "execution_count": 60,
   "metadata": {
    "scrolled": true
   },
   "outputs": [
    {
     "data": {
      "text/html": [
       "<div>\n",
       "<style scoped>\n",
       "    .dataframe tbody tr th:only-of-type {\n",
       "        vertical-align: middle;\n",
       "    }\n",
       "\n",
       "    .dataframe tbody tr th {\n",
       "        vertical-align: top;\n",
       "    }\n",
       "\n",
       "    .dataframe thead th {\n",
       "        text-align: right;\n",
       "    }\n",
       "</style>\n",
       "<table border=\"1\" class=\"dataframe\">\n",
       "  <thead>\n",
       "    <tr style=\"text-align: right;\">\n",
       "      <th></th>\n",
       "      <th>team_api_id</th>\n",
       "      <th>team_name</th>\n",
       "      <th>buildUpPlaySpeed</th>\n",
       "      <th>buildUpPlayDribbling</th>\n",
       "      <th>buildUpPlayPassing</th>\n",
       "      <th>chanceCreationPassing</th>\n",
       "      <th>chanceCreationCrossing</th>\n",
       "      <th>chanceCreationShooting</th>\n",
       "      <th>defencePressure</th>\n",
       "      <th>defenceAggression</th>\n",
       "      <th>defenceTeamWidth</th>\n",
       "    </tr>\n",
       "  </thead>\n",
       "  <tbody>\n",
       "    <tr>\n",
       "      <th>0</th>\n",
       "      <td>9987</td>\n",
       "      <td>KRC Genk</td>\n",
       "      <td>45</td>\n",
       "      <td>48</td>\n",
       "      <td>45</td>\n",
       "      <td>50</td>\n",
       "      <td>35</td>\n",
       "      <td>60</td>\n",
       "      <td>70</td>\n",
       "      <td>65</td>\n",
       "      <td>70</td>\n",
       "    </tr>\n",
       "  </tbody>\n",
       "</table>\n",
       "</div>"
      ],
      "text/plain": [
       "   team_api_id team_name  buildUpPlaySpeed  buildUpPlayDribbling  \\\n",
       "0         9987  KRC Genk                45                    48   \n",
       "\n",
       "   buildUpPlayPassing  chanceCreationPassing  chanceCreationCrossing  \\\n",
       "0                  45                     50                      35   \n",
       "\n",
       "   chanceCreationShooting  defencePressure  defenceAggression  \\\n",
       "0                      60               70                 65   \n",
       "\n",
       "   defenceTeamWidth  \n",
       "0                70  "
      ]
     },
     "execution_count": 60,
     "metadata": {},
     "output_type": "execute_result"
    }
   ],
   "source": [
    "df_Team_Name_att.head(1)"
   ]
  },
  {
   "cell_type": "markdown",
   "metadata": {},
   "source": [
    "## create a dictionary with team id as shared key"
   ]
  },
  {
   "cell_type": "code",
   "execution_count": 61,
   "metadata": {},
   "outputs": [],
   "source": [
    "team_dict= df_Team_Name_att.set_index('team_api_id')['team_name'].to_dict()"
   ]
  },
  {
   "cell_type": "code",
   "execution_count": 62,
   "metadata": {},
   "outputs": [
    {
     "data": {
      "text/plain": [
       "({9987: 'KRC Genk',\n",
       "  9993: 'Beerschot AC',\n",
       "  10000: 'SV Zulte-Waregem',\n",
       "  9994: 'Sporting Lokeren',\n",
       "  9984: 'KSV Cercle Brugge',\n",
       "  8635: 'RSC Anderlecht',\n",
       "  9991: 'KAA Gent',\n",
       "  9998: 'RAEC Mons',\n",
       "  9985: 'Standard de Liège',\n",
       "  8203: 'KV Mechelen',\n",
       "  8342: 'Club Brugge KV',\n",
       "  9999: 'KSV Roeselare',\n",
       "  8571: 'KV Kortrijk',\n",
       "  9996: 'Royal Excel Mouscron',\n",
       "  10001: 'KVC Westerlo',\n",
       "  9986: 'Sporting Charleroi',\n",
       "  9997: 'Sint-Truidense VV',\n",
       "  9989: 'Lierse SK',\n",
       "  6351: 'KAS Eupen',\n",
       "  1773: 'Oud-Heverlee Leuven',\n",
       "  8475: 'Waasland-Beveren',\n",
       "  8573: 'KV Oostende',\n",
       "  274581: 'Royal Excel Mouscron',\n",
       "  10260: 'Manchester United',\n",
       "  10261: 'Newcastle United',\n",
       "  9825: 'Arsenal',\n",
       "  8659: 'West Bromwich Albion',\n",
       "  8472: 'Sunderland',\n",
       "  8650: 'Liverpool',\n",
       "  8654: 'West Ham United',\n",
       "  8528: 'Wigan Athletic',\n",
       "  10252: 'Aston Villa',\n",
       "  8456: 'Manchester City',\n",
       "  8668: 'Everton',\n",
       "  8655: 'Blackburn Rovers',\n",
       "  8549: 'Middlesbrough',\n",
       "  8586: 'Tottenham Hotspur',\n",
       "  8559: 'Bolton Wanderers',\n",
       "  10194: 'Stoke City',\n",
       "  8667: 'Hull City',\n",
       "  9879: 'Fulham',\n",
       "  8455: 'Chelsea',\n",
       "  8462: 'Portsmouth',\n",
       "  8658: 'Birmingham City',\n",
       "  8602: 'Wolverhampton Wanderers',\n",
       "  8191: 'Burnley',\n",
       "  8483: 'Blackpool',\n",
       "  10003: 'Swansea City',\n",
       "  10172: 'Queens Park Rangers',\n",
       "  9850: 'Norwich City',\n",
       "  8466: 'Southampton',\n",
       "  9798: 'Reading',\n",
       "  9826: 'Crystal Palace',\n",
       "  8344: 'Cardiff City',\n",
       "  8197: 'Leicester City',\n",
       "  8678: 'Bournemouth',\n",
       "  9817: 'Watford',\n",
       "  8583: 'AJ Auxerre',\n",
       "  9830: 'FC Nantes',\n",
       "  9827: 'Girondins de Bordeaux',\n",
       "  7819: 'SM Caen',\n",
       "  9746: 'Le Havre AC',\n",
       "  9831: 'OGC Nice',\n",
       "  8682: 'Le Mans FC',\n",
       "  8689: 'FC Lorient',\n",
       "  9748: 'Olympique Lyonnais',\n",
       "  9941: 'Toulouse FC',\n",
       "  9829: 'AS Monaco',\n",
       "  9847: 'Paris Saint-Germain',\n",
       "  8481: 'AS Nancy-Lorraine',\n",
       "  8639: 'LOSC Lille',\n",
       "  9851: 'Stade Rennais FC',\n",
       "  8592: 'Olympique de Marseille',\n",
       "  9874: 'FC Sochaux-Montbéliard',\n",
       "  9855: 'Grenoble Foot 38',\n",
       "  9873: 'Valenciennes FC',\n",
       "  9853: 'AS Saint-Étienne',\n",
       "  8588: 'RC Lens',\n",
       "  10249: 'Montpellier Hérault SC',\n",
       "  4170: \"US Boulogne Cote D'Opale\",\n",
       "  108893: 'AC Arles-Avignon',\n",
       "  8521: 'Stade Brestois 29',\n",
       "  8576: 'AC Ajaccio',\n",
       "  4087: 'Évian Thonon Gaillard FC',\n",
       "  9836: 'Dijon FCO',\n",
       "  9837: 'Stade de Reims',\n",
       "  7794: 'SC Bastia',\n",
       "  10242: 'ES Troyes AC',\n",
       "  9747: 'En Avant de Guingamp',\n",
       "  8550: 'FC Metz',\n",
       "  8121: 'Angers SCO',\n",
       "  6391: 'GFC Ajaccio',\n",
       "  9823: 'FC Bayern Munich',\n",
       "  9790: 'Hamburger SV',\n",
       "  8178: 'Bayer 04 Leverkusen',\n",
       "  9789: 'Borussia Dortmund',\n",
       "  10189: 'FC Schalke 04',\n",
       "  9904: 'Hannover 96',\n",
       "  8721: 'VfL Wolfsburg',\n",
       "  8722: '1. FC Köln',\n",
       "  9810: 'Eintracht Frankfurt',\n",
       "  8177: 'Hertha BSC Berlin',\n",
       "  9912: 'DSC Arminia Bielefeld',\n",
       "  8697: 'SV Werder Bremen',\n",
       "  8398: 'FC Energie Cottbus',\n",
       "  8226: 'TSG 1899 Hoffenheim',\n",
       "  9788: 'Borussia Mönchengladbach',\n",
       "  10269: 'VfB Stuttgart',\n",
       "  8295: 'Karlsruher SC',\n",
       "  9911: 'VfL Bochum',\n",
       "  8358: 'SC Freiburg',\n",
       "  8165: '1. FC Nürnberg',\n",
       "  9905: '1. FSV Mainz 05',\n",
       "  8350: '1. FC Kaiserslautern',\n",
       "  8152: 'FC St. Pauli',\n",
       "  8406: 'FC Augsburg',\n",
       "  8194: 'Fortuna Düsseldorf',\n",
       "  8357: 'SpVgg Greuther Fürth',\n",
       "  9776: 'Eintracht Braunschweig',\n",
       "  8460: 'SC Paderborn 07',\n",
       "  8234: 'FC Ingolstadt 04',\n",
       "  8262: 'SV Darmstadt 98',\n",
       "  8524: 'Atalanta',\n",
       "  8551: 'Siena',\n",
       "  8529: 'Cagliari',\n",
       "  8543: 'Lazio',\n",
       "  8530: 'Catania',\n",
       "  10233: 'Genoa',\n",
       "  8533: 'Chievo Verona',\n",
       "  8690: 'Reggio Calabria',\n",
       "  8535: 'Fiorentina',\n",
       "  9885: 'Juventus',\n",
       "  8564: 'Milan',\n",
       "  9857: 'Bologna',\n",
       "  8686: 'Roma',\n",
       "  9875: 'Napoli',\n",
       "  9882: 'Sampdoria',\n",
       "  8636: 'Inter',\n",
       "  9804: 'Torino',\n",
       "  9888: 'Lecce',\n",
       "  8600: 'Udinese',\n",
       "  8540: 'Palermo',\n",
       "  9976: 'Bari',\n",
       "  8537: 'Livorno',\n",
       "  10167: 'Parma',\n",
       "  9880: 'Cesena',\n",
       "  9858: 'Brescia',\n",
       "  6269: 'Novara',\n",
       "  9878: 'Pescara',\n",
       "  9876: 'Hellas Verona',\n",
       "  7943: 'Sassuolo',\n",
       "  8534: 'Empoli',\n",
       "  9891: 'Frosinone',\n",
       "  208931: 'Carpi',\n",
       "  8277: 'Vitesse',\n",
       "  8674: 'FC Groningen',\n",
       "  9803: 'Roda JC Kerkrade',\n",
       "  8611: 'FC Twente',\n",
       "  8525: 'Willem II',\n",
       "  8593: 'Ajax',\n",
       "  8464: 'N.E.C.',\n",
       "  8526: 'De Graafschap',\n",
       "  9908: 'FC Utrecht',\n",
       "  8640: 'PSV',\n",
       "  9791: 'Heracles Almelo',\n",
       "  10235: 'Feyenoord',\n",
       "  8614: 'Sparta Rotterdam',\n",
       "  10217: 'ADO Den Haag',\n",
       "  10228: 'SC Heerenveen',\n",
       "  10229: 'AZ',\n",
       "  9761: 'NAC Breda',\n",
       "  10219: 'RKC Waalwijk',\n",
       "  9839: 'VVV-Venlo',\n",
       "  10218: 'Excelsior',\n",
       "  6413: 'PEC Zwolle',\n",
       "  7788: 'SC Cambuur',\n",
       "  6433: 'Go Ahead Eagles',\n",
       "  6631: 'FC Dordrecht',\n",
       "  10265: 'Wisła Kraków',\n",
       "  8031: 'Polonia Bytom',\n",
       "  8020: 'Polonia Bytom',\n",
       "  1601: 'Ruch Chorzów',\n",
       "  8673: 'Legia Warszawa',\n",
       "  2183: 'P. Warszawa',\n",
       "  8025: 'Śląsk Wrocław',\n",
       "  8030: 'Lechia Gdańsk',\n",
       "  8244: 'Widzew Łódź',\n",
       "  8242: 'Odra Wodzisław',\n",
       "  2182: 'Lech Poznań',\n",
       "  8569: 'GKS Bełchatów',\n",
       "  8322: 'Arka Gdynia',\n",
       "  1957: 'Jagiellonia Białystok',\n",
       "  8028: 'Piast Gliwice',\n",
       "  2186: 'Cracovia',\n",
       "  8245: 'Korona Kielce',\n",
       "  8021: 'Zagłębie Lubin',\n",
       "  8024: 'Widzew Łódź',\n",
       "  8033: 'Podbeskidzie Bielsko-Biała',\n",
       "  8023: 'Pogoń Szczecin',\n",
       "  8027: 'Zawisza Bydgoszcz',\n",
       "  8019: 'Górnik Łęczna',\n",
       "  9773: 'FC Porto',\n",
       "  9807: 'CF Os Belenenses',\n",
       "  9768: 'Sporting CP',\n",
       "  7844: 'Vitória Guimarães',\n",
       "  10238: 'Vitória Setúbal',\n",
       "  6403: 'FC Paços de Ferreira',\n",
       "  10264: 'SC Braga',\n",
       "  10215: 'Académica de Coimbra',\n",
       "  7841: 'Rio Ave FC',\n",
       "  9772: 'SL Benfica',\n",
       "  6421: 'Leixões SC',\n",
       "  10214: 'CD Nacional',\n",
       "  9809: 'Naval 1° de Maio',\n",
       "  10212: 'CS Marítimo',\n",
       "  9771: 'União de Leiria, SAD',\n",
       "  2033: 'S.C. Olhanense',\n",
       "  10211: 'SC Beira Mar',\n",
       "  9764: 'Gil Vicente FC',\n",
       "  8348: 'Moreirense FC',\n",
       "  7842: 'Estoril Praia',\n",
       "  158085: 'FC Arouca',\n",
       "  6547: 'FC Penafiel',\n",
       "  8613: 'Boavista FC',\n",
       "  8596: 'Falkirk',\n",
       "  8548: 'Rangers',\n",
       "  9860: 'Heart of Midlothian',\n",
       "  9927: 'Motherwell',\n",
       "  8597: 'Kilmarnock',\n",
       "  10251: 'Hibernian',\n",
       "  8485: 'Aberdeen',\n",
       "  8066: 'Inverness Caledonian Thistle',\n",
       "  9925: 'Celtic',\n",
       "  9800: 'St. Mirren',\n",
       "  8429: 'Hamilton Academical FC',\n",
       "  9938: 'Dundee United',\n",
       "  8467: 'St. Johnstone FC',\n",
       "  8457: 'Dunfermline Athletic',\n",
       "  8284: 'Dundee FC',\n",
       "  8649: 'Ross County FC',\n",
       "  8426: 'Partick Thistle F.C.',\n",
       "  10267: 'Valencia CF',\n",
       "  8661: 'RCD Mallorca',\n",
       "  8371: 'CA Osasuna',\n",
       "  10205: 'Villarreal CF',\n",
       "  9783: 'RC Deportivo de La Coruña',\n",
       "  8633: 'Real Madrid CF',\n",
       "  8388: 'CD Numancia',\n",
       "  8634: 'FC Barcelona',\n",
       "  8696: 'Racing Santander',\n",
       "  8302: 'Sevilla FC',\n",
       "  9869: 'Real Sporting de Gijón',\n",
       "  8305: 'Getafe CF',\n",
       "  8603: 'Real Betis Balompié',\n",
       "  8479: 'RC Recreativo',\n",
       "  8558: 'RCD Espanyol',\n",
       "  10281: 'Real Valladolid',\n",
       "  8315: 'Athletic Club de Bilbao',\n",
       "  9865: 'UD Almería',\n",
       "  9906: 'Atlético Madrid',\n",
       "  9864: 'Málaga CF',\n",
       "  9868: 'Xerez Club Deportivo',\n",
       "  8394: 'Real Zaragoza',\n",
       "  9867: 'CD Tenerife',\n",
       "  10278: 'Hércules Club de Fútbol',\n",
       "  8581: 'Levante UD',\n",
       "  8560: 'Real Sociedad',\n",
       "  7878: 'Granada CF',\n",
       "  8370: 'Rayo Vallecano',\n",
       "  9910: 'RC Celta de Vigo',\n",
       "  10268: 'Elche CF',\n",
       "  8372: 'SD Eibar',\n",
       "  7869: 'Córdoba CF',\n",
       "  8306: 'UD Las Palmas',\n",
       "  9956: 'Grasshopper Club Zürich',\n",
       "  6493: 'AC Bellinzona',\n",
       "  10192: 'BSC Young Boys',\n",
       "  9931: 'FC Basel',\n",
       "  9930: 'FC Aarau',\n",
       "  10179: 'FC Sion',\n",
       "  10199: 'FC Luzern',\n",
       "  9824: 'FC Vaduz',\n",
       "  7955: 'Neuchâtel Xamax',\n",
       "  10243: 'FC Zürich',\n",
       "  10190: 'FC St. Gallen',\n",
       "  10191: 'FC Thun',\n",
       "  9777: 'Servette FC',\n",
       "  7730: 'FC Lausanne-Sports'},\n",
       " 288)"
      ]
     },
     "execution_count": 62,
     "metadata": {},
     "output_type": "execute_result"
    }
   ],
   "source": [
    "team_dict , len(team_dict)"
   ]
  },
  {
   "cell_type": "markdown",
   "metadata": {},
   "source": [
    "### Fourth we Merge (df_Team_Name_att + df_Match_Coun_Leag)"
   ]
  },
  {
   "cell_type": "code",
   "execution_count": 63,
   "metadata": {
    "scrolled": false
   },
   "outputs": [
    {
     "data": {
      "text/html": [
       "<div>\n",
       "<style scoped>\n",
       "    .dataframe tbody tr th:only-of-type {\n",
       "        vertical-align: middle;\n",
       "    }\n",
       "\n",
       "    .dataframe tbody tr th {\n",
       "        vertical-align: top;\n",
       "    }\n",
       "\n",
       "    .dataframe thead th {\n",
       "        text-align: right;\n",
       "    }\n",
       "</style>\n",
       "<table border=\"1\" class=\"dataframe\">\n",
       "  <thead>\n",
       "    <tr style=\"text-align: right;\">\n",
       "      <th></th>\n",
       "      <th>League_Name</th>\n",
       "      <th>Country_Name</th>\n",
       "      <th>season</th>\n",
       "      <th>home_team_api_id</th>\n",
       "      <th>away_team_api_id</th>\n",
       "      <th>home_team_goal</th>\n",
       "      <th>away_team_goal</th>\n",
       "      <th>team_api_id</th>\n",
       "      <th>team_name</th>\n",
       "      <th>buildUpPlaySpeed</th>\n",
       "      <th>buildUpPlayDribbling</th>\n",
       "      <th>buildUpPlayPassing</th>\n",
       "      <th>chanceCreationPassing</th>\n",
       "      <th>chanceCreationCrossing</th>\n",
       "      <th>chanceCreationShooting</th>\n",
       "      <th>defencePressure</th>\n",
       "      <th>defenceAggression</th>\n",
       "      <th>defenceTeamWidth</th>\n",
       "    </tr>\n",
       "  </thead>\n",
       "  <tbody>\n",
       "    <tr>\n",
       "      <th>0</th>\n",
       "      <td>Belgium Jupiler League</td>\n",
       "      <td>Belgium</td>\n",
       "      <td>2008/2009</td>\n",
       "      <td>9987</td>\n",
       "      <td>9993</td>\n",
       "      <td>1</td>\n",
       "      <td>1</td>\n",
       "      <td>9987</td>\n",
       "      <td>KRC Genk</td>\n",
       "      <td>45</td>\n",
       "      <td>48</td>\n",
       "      <td>45</td>\n",
       "      <td>50</td>\n",
       "      <td>35</td>\n",
       "      <td>60</td>\n",
       "      <td>70</td>\n",
       "      <td>65</td>\n",
       "      <td>70</td>\n",
       "    </tr>\n",
       "  </tbody>\n",
       "</table>\n",
       "</div>"
      ],
      "text/plain": [
       "              League_Name Country_Name     season  home_team_api_id  \\\n",
       "0  Belgium Jupiler League      Belgium  2008/2009              9987   \n",
       "\n",
       "   away_team_api_id  home_team_goal  away_team_goal  team_api_id team_name  \\\n",
       "0              9993               1               1         9987  KRC Genk   \n",
       "\n",
       "   buildUpPlaySpeed  buildUpPlayDribbling  buildUpPlayPassing  \\\n",
       "0                45                    48                  45   \n",
       "\n",
       "   chanceCreationPassing  chanceCreationCrossing  chanceCreationShooting  \\\n",
       "0                     50                      35                      60   \n",
       "\n",
       "   defencePressure  defenceAggression  defenceTeamWidth  \n",
       "0               70                 65                70  "
      ]
     },
     "execution_count": 63,
     "metadata": {},
     "output_type": "execute_result"
    }
   ],
   "source": [
    "df_Match_Team_Coun_Leag=pd.merge(df_Match_Coun_Leag,df_Team_Name_att,left_on=['home_team_api_id'],right_on=['team_api_id'],how='inner')\n",
    "df_Match_Team_Coun_Leag.head(1)"
   ]
  },
  {
   "cell_type": "markdown",
   "metadata": {},
   "source": [
    "## Map information for both home and away team"
   ]
  },
  {
   "cell_type": "code",
   "execution_count": 64,
   "metadata": {
    "scrolled": true
   },
   "outputs": [
    {
     "data": {
      "text/plain": [
       "RCD Espanyol                912\n",
       "Sevilla FC                  912\n",
       "Dundee United               912\n",
       "AS Saint-Étienne            912\n",
       "Chelsea                     912\n",
       "Sunderland                  912\n",
       "Aberdeen                    912\n",
       "Girondins de Bordeaux       912\n",
       "Manchester City             912\n",
       "Málaga CF                   912\n",
       "Aston Villa                 912\n",
       "Olympique de Marseille      912\n",
       "Stoke City                  912\n",
       "Stade Rennais FC            912\n",
       "Tottenham Hotspur           912\n",
       "Getafe CF                   912\n",
       "FC Lorient                  912\n",
       "Everton                     912\n",
       "Atlético Madrid             912\n",
       "Paris Saint-Germain         912\n",
       "Celtic                      912\n",
       "Kilmarnock                  912\n",
       "Arsenal                     912\n",
       "Athletic Club de Bilbao     912\n",
       "Toulouse FC                 912\n",
       "FC Barcelona                912\n",
       "Liverpool                   912\n",
       "Real Madrid CF              912\n",
       "Olympique Lyonnais          912\n",
       "LOSC Lille                  912\n",
       "                           ... \n",
       "FC Ingolstadt 04             85\n",
       "Karlsruher SC                85\n",
       "CD Tenerife                  76\n",
       "Grenoble Foot 38             76\n",
       "SD Eibar                     76\n",
       "Xerez Club Deportivo         76\n",
       "Novara                       72\n",
       "Go Ahead Eagles              68\n",
       "Eintracht Braunschweig       68\n",
       "KV Oostende                  66\n",
       "Royal Excel Mouscron         64\n",
       "Zawisza Bydgoszcz            60\n",
       "Frosinone                    57\n",
       "US Boulogne Cote D'Opale     57\n",
       "FC Vaduz                     54\n",
       "DSC Arminia Bielefeld        51\n",
       "Falkirk                      38\n",
       "Carpi                        38\n",
       "GFC Ajaccio                  38\n",
       "Boavista FC                  34\n",
       "Sparta Rotterdam             34\n",
       "KSV Roeselare                31\n",
       "Leixões SC                   30\n",
       "Górnik Łęczna                30\n",
       "Odra Wodzisław               30\n",
       "Dunfermline Athletic         19\n",
       "SV Darmstadt 98              17\n",
       "FC Dordrecht                 17\n",
       "FC Penafiel                  17\n",
       "KAS Eupen                    15\n",
       "Name: home_team, Length: 285, dtype: int64"
      ]
     },
     "execution_count": 64,
     "metadata": {},
     "output_type": "execute_result"
    }
   ],
   "source": [
    "df_Match_Team_Coun_Leag['home_team']=df_Match_Team_Coun_Leag['home_team_api_id'].map(team_dict)\n",
    "df_Match_Team_Coun_Leag['home_team'].value_counts()"
   ]
  },
  {
   "cell_type": "code",
   "execution_count": 65,
   "metadata": {
    "scrolled": true
   },
   "outputs": [
    {
     "data": {
      "text/plain": [
       "Chelsea                     912\n",
       "Stoke City                  912\n",
       "Arsenal                     912\n",
       "Tottenham Hotspur           912\n",
       "Manchester United           912\n",
       "Sunderland                  912\n",
       "Everton                     912\n",
       "Manchester City             912\n",
       "Aston Villa                 912\n",
       "Liverpool                   912\n",
       "RCD Espanyol                890\n",
       "Athletic Club de Bilbao     890\n",
       "Real Madrid CF              890\n",
       "Valencia CF                 890\n",
       "FC Barcelona                890\n",
       "Sevilla FC                  890\n",
       "Málaga CF                   890\n",
       "Getafe CF                   890\n",
       "Atlético Madrid             890\n",
       "Inter                       882\n",
       "Milan                       882\n",
       "Roma                        882\n",
       "Genoa                       879\n",
       "Udinese                     878\n",
       "Napoli                      876\n",
       "Chievo Verona               876\n",
       "AS Saint-Étienne            875\n",
       "Paris Saint-Germain         875\n",
       "Olympique de Marseille      875\n",
       "Girondins de Bordeaux       875\n",
       "                           ... \n",
       "RC Recreativo               113\n",
       "Pescara                     113\n",
       "Brescia                     111\n",
       "Xerez Club Deportivo        111\n",
       "CD Tenerife                 111\n",
       "FC Metz                     110\n",
       "GFC Ajaccio                 110\n",
       "Reggio Calabria             110\n",
       "Dunfermline Athletic        109\n",
       "Córdoba CF                  109\n",
       "UD Las Palmas               109\n",
       "Carpi                       109\n",
       "Le Havre AC                 108\n",
       "Frosinone                   108\n",
       "US Boulogne Cote D'Opale    108\n",
       "Angers SCO                  106\n",
       "Novara                      104\n",
       "Eintracht Braunschweig      102\n",
       "SpVgg Greuther Fürth        102\n",
       "FC St. Pauli                102\n",
       "Fortuna Düsseldorf          102\n",
       "SC Paderborn 07             102\n",
       "SV Darmstadt 98             101\n",
       "DSC Arminia Bielefeld       100\n",
       "FC Energie Cottbus           98\n",
       "Karlsruher SC                98\n",
       "FC Ingolstadt 04             97\n",
       "FC Dordrecht                 86\n",
       "KAS Eupen                    81\n",
       "FC Penafiel                  81\n",
       "Name: away_team, Length: 285, dtype: int64"
      ]
     },
     "execution_count": 65,
     "metadata": {},
     "output_type": "execute_result"
    }
   ],
   "source": [
    "df_Match_Team_Coun_Leag['away_team']=df_Match_Team_Coun_Leag['away_team_api_id'].map(team_dict)\n",
    "df_Match_Team_Coun_Leag['away_team'].value_counts()"
   ]
  },
  {
   "cell_type": "code",
   "execution_count": 66,
   "metadata": {
    "scrolled": true
   },
   "outputs": [
    {
     "data": {
      "text/plain": [
       "Index(['League_Name', 'Country_Name', 'season', 'home_team_goal',\n",
       "       'away_team_goal', 'team_api_id', 'team_name', 'buildUpPlaySpeed',\n",
       "       'buildUpPlayDribbling', 'buildUpPlayPassing', 'chanceCreationPassing',\n",
       "       'chanceCreationCrossing', 'chanceCreationShooting', 'defencePressure',\n",
       "       'defenceAggression', 'defenceTeamWidth', 'home_team', 'away_team'],\n",
       "      dtype='object')"
      ]
     },
     "execution_count": 66,
     "metadata": {},
     "output_type": "execute_result"
    }
   ],
   "source": [
    "df_Match_Team_Coun_Leag.drop(['home_team_api_id','away_team_api_id'],axis=1,inplace=True)\n",
    "df_Match_Team_Coun_Leag.columns"
   ]
  },
  {
   "cell_type": "code",
   "execution_count": 67,
   "metadata": {},
   "outputs": [
    {
     "data": {
      "text/plain": [
       "9491"
      ]
     },
     "execution_count": 67,
     "metadata": {},
     "output_type": "execute_result"
    }
   ],
   "source": [
    "#remove duplicated values\n",
    "df_Match_Team_Coun_Leag.duplicated().sum()"
   ]
  },
  {
   "cell_type": "code",
   "execution_count": 68,
   "metadata": {},
   "outputs": [],
   "source": [
    "df_Match_Team_Coun_Leag.drop_duplicates(inplace=True)\n"
   ]
  },
  {
   "cell_type": "code",
   "execution_count": 69,
   "metadata": {
    "scrolled": true
   },
   "outputs": [
    {
     "data": {
      "text/plain": [
       "0"
      ]
     },
     "execution_count": 69,
     "metadata": {},
     "output_type": "execute_result"
    }
   ],
   "source": [
    "df_Match_Team_Coun_Leag.duplicated().sum() #there are no duplicated values"
   ]
  },
  {
   "cell_type": "markdown",
   "metadata": {},
   "source": [
    "# to answer Q1 \n",
    "## 1- compare team by wins by using (unstack) "
   ]
  },
  {
   "cell_type": "code",
   "execution_count": 70,
   "metadata": {},
   "outputs": [],
   "source": [
    "#unstack allows to create a data structure \n",
    "df_Match_Team_Coun_Leag[\"result\"]='tie'"
   ]
  },
  {
   "cell_type": "code",
   "execution_count": 71,
   "metadata": {},
   "outputs": [],
   "source": [
    "#if home goal more than away goal , then it is home win\n",
    "mask=df_Match_Team_Coun_Leag['home_team_goal'] > df_Match_Team_Coun_Leag['away_team_goal']\n",
    "df_Match_Team_Coun_Leag.loc[mask,'result']='home win'\n"
   ]
  },
  {
   "cell_type": "code",
   "execution_count": 72,
   "metadata": {},
   "outputs": [],
   "source": [
    "#if home goal less than away goal , then it is away win\n",
    "\n",
    "mask=df_Match_Team_Coun_Leag['home_team_goal'] < df_Match_Team_Coun_Leag['away_team_goal']\n",
    "df_Match_Team_Coun_Leag.loc[mask,'result']='away win'\n"
   ]
  },
  {
   "cell_type": "code",
   "execution_count": 73,
   "metadata": {},
   "outputs": [
    {
     "data": {
      "text/plain": [
       "home_team             result  \n",
       "1. FC Kaiserslautern  away win     90\n",
       "                      home win     48\n",
       "                      tie          66\n",
       "1. FC Köln            away win    234\n",
       "                      home win    192\n",
       "dtype: int64"
      ]
     },
     "execution_count": 73,
     "metadata": {},
     "output_type": "execute_result"
    }
   ],
   "source": [
    "df_Match_Team_Coun_Leag.groupby(['home_team','result']).size().head() #filter by team and result"
   ]
  },
  {
   "cell_type": "code",
   "execution_count": 74,
   "metadata": {
    "scrolled": false
   },
   "outputs": [
    {
     "data": {
      "text/html": [
       "<div>\n",
       "<style scoped>\n",
       "    .dataframe tbody tr th:only-of-type {\n",
       "        vertical-align: middle;\n",
       "    }\n",
       "\n",
       "    .dataframe tbody tr th {\n",
       "        vertical-align: top;\n",
       "    }\n",
       "\n",
       "    .dataframe thead th {\n",
       "        text-align: right;\n",
       "    }\n",
       "</style>\n",
       "<table border=\"1\" class=\"dataframe\">\n",
       "  <thead>\n",
       "    <tr style=\"text-align: right;\">\n",
       "      <th>result</th>\n",
       "      <th>away win</th>\n",
       "      <th>home win</th>\n",
       "      <th>tie</th>\n",
       "    </tr>\n",
       "    <tr>\n",
       "      <th>home_team</th>\n",
       "      <th></th>\n",
       "      <th></th>\n",
       "      <th></th>\n",
       "    </tr>\n",
       "  </thead>\n",
       "  <tbody>\n",
       "    <tr>\n",
       "      <th>1. FC Kaiserslautern</th>\n",
       "      <td>90.0</td>\n",
       "      <td>48.0</td>\n",
       "      <td>66.0</td>\n",
       "    </tr>\n",
       "    <tr>\n",
       "      <th>1. FC Köln</th>\n",
       "      <td>234.0</td>\n",
       "      <td>192.0</td>\n",
       "      <td>186.0</td>\n",
       "    </tr>\n",
       "    <tr>\n",
       "      <th>1. FC Nürnberg</th>\n",
       "      <td>204.0</td>\n",
       "      <td>180.0</td>\n",
       "      <td>126.0</td>\n",
       "    </tr>\n",
       "    <tr>\n",
       "      <th>1. FSV Mainz 05</th>\n",
       "      <td>210.0</td>\n",
       "      <td>330.0</td>\n",
       "      <td>174.0</td>\n",
       "    </tr>\n",
       "    <tr>\n",
       "      <th>AC Ajaccio</th>\n",
       "      <td>88.0</td>\n",
       "      <td>64.0</td>\n",
       "      <td>76.0</td>\n",
       "    </tr>\n",
       "  </tbody>\n",
       "</table>\n",
       "</div>"
      ],
      "text/plain": [
       "result                away win  home win    tie\n",
       "home_team                                      \n",
       "1. FC Kaiserslautern      90.0      48.0   66.0\n",
       "1. FC Köln               234.0     192.0  186.0\n",
       "1. FC Nürnberg           204.0     180.0  126.0\n",
       "1. FSV Mainz 05          210.0     330.0  174.0\n",
       "AC Ajaccio                88.0      64.0   76.0"
      ]
     },
     "execution_count": 74,
     "metadata": {},
     "output_type": "execute_result"
    }
   ],
   "source": [
    "df_Match_Team_Coun_Leag.groupby(['home_team','result']).size().unstack('result').head()"
   ]
  },
  {
   "cell_type": "code",
   "execution_count": 75,
   "metadata": {
    "scrolled": true
   },
   "outputs": [],
   "source": [
    "#Drop_columns(df_Match_Team_Coun_Leag,'build')\n",
    "\n",
    "#Drop_columns(df_Match_Team_Coun_Leag,'chance')\n",
    "\n",
    "#Drop_columns(df_Match_Team_Coun_Leag,'defence')\n",
    "\n"
   ]
  },
  {
   "cell_type": "code",
   "execution_count": 76,
   "metadata": {},
   "outputs": [
    {
     "data": {
      "text/html": [
       "<div>\n",
       "<style scoped>\n",
       "    .dataframe tbody tr th:only-of-type {\n",
       "        vertical-align: middle;\n",
       "    }\n",
       "\n",
       "    .dataframe tbody tr th {\n",
       "        vertical-align: top;\n",
       "    }\n",
       "\n",
       "    .dataframe thead th {\n",
       "        text-align: right;\n",
       "    }\n",
       "</style>\n",
       "<table border=\"1\" class=\"dataframe\">\n",
       "  <thead>\n",
       "    <tr style=\"text-align: right;\">\n",
       "      <th></th>\n",
       "      <th>League_Name</th>\n",
       "      <th>Country_Name</th>\n",
       "      <th>season</th>\n",
       "      <th>home_team_goal</th>\n",
       "      <th>away_team_goal</th>\n",
       "      <th>team_api_id</th>\n",
       "      <th>team_name</th>\n",
       "      <th>buildUpPlaySpeed</th>\n",
       "      <th>buildUpPlayDribbling</th>\n",
       "      <th>buildUpPlayPassing</th>\n",
       "      <th>chanceCreationPassing</th>\n",
       "      <th>chanceCreationCrossing</th>\n",
       "      <th>chanceCreationShooting</th>\n",
       "      <th>defencePressure</th>\n",
       "      <th>defenceAggression</th>\n",
       "      <th>defenceTeamWidth</th>\n",
       "      <th>home_team</th>\n",
       "      <th>away_team</th>\n",
       "      <th>result</th>\n",
       "    </tr>\n",
       "  </thead>\n",
       "  <tbody>\n",
       "    <tr>\n",
       "      <th>0</th>\n",
       "      <td>Belgium Jupiler League</td>\n",
       "      <td>Belgium</td>\n",
       "      <td>2008/2009</td>\n",
       "      <td>1</td>\n",
       "      <td>1</td>\n",
       "      <td>9987</td>\n",
       "      <td>KRC Genk</td>\n",
       "      <td>45</td>\n",
       "      <td>48</td>\n",
       "      <td>45</td>\n",
       "      <td>50</td>\n",
       "      <td>35</td>\n",
       "      <td>60</td>\n",
       "      <td>70</td>\n",
       "      <td>65</td>\n",
       "      <td>70</td>\n",
       "      <td>KRC Genk</td>\n",
       "      <td>Beerschot AC</td>\n",
       "      <td>tie</td>\n",
       "    </tr>\n",
       "  </tbody>\n",
       "</table>\n",
       "</div>"
      ],
      "text/plain": [
       "              League_Name Country_Name     season  home_team_goal  \\\n",
       "0  Belgium Jupiler League      Belgium  2008/2009               1   \n",
       "\n",
       "   away_team_goal  team_api_id team_name  buildUpPlaySpeed  \\\n",
       "0               1         9987  KRC Genk                45   \n",
       "\n",
       "   buildUpPlayDribbling  buildUpPlayPassing  chanceCreationPassing  \\\n",
       "0                    48                  45                     50   \n",
       "\n",
       "   chanceCreationCrossing  chanceCreationShooting  defencePressure  \\\n",
       "0                      35                      60               70   \n",
       "\n",
       "   defenceAggression  defenceTeamWidth home_team     away_team result  \n",
       "0                 65                70  KRC Genk  Beerschot AC    tie  "
      ]
     },
     "execution_count": 76,
     "metadata": {},
     "output_type": "execute_result"
    }
   ],
   "source": [
    "df_Match_Team_Coun_Leag.head(1)"
   ]
  },
  {
   "cell_type": "code",
   "execution_count": 77,
   "metadata": {
    "scrolled": true
   },
   "outputs": [
    {
     "data": {
      "text/html": [
       "<div>\n",
       "<style scoped>\n",
       "    .dataframe tbody tr th:only-of-type {\n",
       "        vertical-align: middle;\n",
       "    }\n",
       "\n",
       "    .dataframe tbody tr th {\n",
       "        vertical-align: top;\n",
       "    }\n",
       "\n",
       "    .dataframe thead th {\n",
       "        text-align: right;\n",
       "    }\n",
       "</style>\n",
       "<table border=\"1\" class=\"dataframe\">\n",
       "  <thead>\n",
       "    <tr style=\"text-align: right;\">\n",
       "      <th>result</th>\n",
       "      <th>away win</th>\n",
       "      <th>home win</th>\n",
       "      <th>tie</th>\n",
       "    </tr>\n",
       "    <tr>\n",
       "      <th>home_team</th>\n",
       "      <th></th>\n",
       "      <th></th>\n",
       "      <th></th>\n",
       "    </tr>\n",
       "  </thead>\n",
       "  <tbody>\n",
       "    <tr>\n",
       "      <th>FC Barcelona</th>\n",
       "      <td>54.0</td>\n",
       "      <td>786.0</td>\n",
       "      <td>72.0</td>\n",
       "    </tr>\n",
       "    <tr>\n",
       "      <th>Real Madrid CF</th>\n",
       "      <td>72.0</td>\n",
       "      <td>774.0</td>\n",
       "      <td>66.0</td>\n",
       "    </tr>\n",
       "    <tr>\n",
       "      <th>Celtic</th>\n",
       "      <td>54.0</td>\n",
       "      <td>702.0</td>\n",
       "      <td>138.0</td>\n",
       "    </tr>\n",
       "    <tr>\n",
       "      <th>Manchester United</th>\n",
       "      <td>120.0</td>\n",
       "      <td>696.0</td>\n",
       "      <td>96.0</td>\n",
       "    </tr>\n",
       "    <tr>\n",
       "      <th>Manchester City</th>\n",
       "      <td>126.0</td>\n",
       "      <td>678.0</td>\n",
       "      <td>108.0</td>\n",
       "    </tr>\n",
       "    <tr>\n",
       "      <th>FC Bayern Munich</th>\n",
       "      <td>78.0</td>\n",
       "      <td>654.0</td>\n",
       "      <td>84.0</td>\n",
       "    </tr>\n",
       "    <tr>\n",
       "      <th>Juventus</th>\n",
       "      <td>96.0</td>\n",
       "      <td>630.0</td>\n",
       "      <td>180.0</td>\n",
       "    </tr>\n",
       "    <tr>\n",
       "      <th>PSV</th>\n",
       "      <td>78.0</td>\n",
       "      <td>630.0</td>\n",
       "      <td>108.0</td>\n",
       "    </tr>\n",
       "    <tr>\n",
       "      <th>Atlético Madrid</th>\n",
       "      <td>150.0</td>\n",
       "      <td>618.0</td>\n",
       "      <td>144.0</td>\n",
       "    </tr>\n",
       "    <tr>\n",
       "      <th>Ajax</th>\n",
       "      <td>54.0</td>\n",
       "      <td>618.0</td>\n",
       "      <td>144.0</td>\n",
       "    </tr>\n",
       "    <tr>\n",
       "      <th>SL Benfica</th>\n",
       "      <td>42.0</td>\n",
       "      <td>612.0</td>\n",
       "      <td>90.0</td>\n",
       "    </tr>\n",
       "    <tr>\n",
       "      <th>FC Porto</th>\n",
       "      <td>36.0</td>\n",
       "      <td>612.0</td>\n",
       "      <td>96.0</td>\n",
       "    </tr>\n",
       "    <tr>\n",
       "      <th>Chelsea</th>\n",
       "      <td>102.0</td>\n",
       "      <td>606.0</td>\n",
       "      <td>204.0</td>\n",
       "    </tr>\n",
       "    <tr>\n",
       "      <th>Roma</th>\n",
       "      <td>114.0</td>\n",
       "      <td>582.0</td>\n",
       "      <td>210.0</td>\n",
       "    </tr>\n",
       "    <tr>\n",
       "      <th>Arsenal</th>\n",
       "      <td>126.0</td>\n",
       "      <td>582.0</td>\n",
       "      <td>204.0</td>\n",
       "    </tr>\n",
       "    <tr>\n",
       "      <th>Napoli</th>\n",
       "      <td>102.0</td>\n",
       "      <td>570.0</td>\n",
       "      <td>228.0</td>\n",
       "    </tr>\n",
       "    <tr>\n",
       "      <th>LOSC Lille</th>\n",
       "      <td>120.0</td>\n",
       "      <td>558.0</td>\n",
       "      <td>234.0</td>\n",
       "    </tr>\n",
       "    <tr>\n",
       "      <th>Milan</th>\n",
       "      <td>150.0</td>\n",
       "      <td>552.0</td>\n",
       "      <td>204.0</td>\n",
       "    </tr>\n",
       "    <tr>\n",
       "      <th>Sevilla FC</th>\n",
       "      <td>204.0</td>\n",
       "      <td>546.0</td>\n",
       "      <td>162.0</td>\n",
       "    </tr>\n",
       "    <tr>\n",
       "      <th>Inter</th>\n",
       "      <td>144.0</td>\n",
       "      <td>540.0</td>\n",
       "      <td>222.0</td>\n",
       "    </tr>\n",
       "    <tr>\n",
       "      <th>Tottenham Hotspur</th>\n",
       "      <td>168.0</td>\n",
       "      <td>528.0</td>\n",
       "      <td>216.0</td>\n",
       "    </tr>\n",
       "    <tr>\n",
       "      <th>Borussia Dortmund</th>\n",
       "      <td>108.0</td>\n",
       "      <td>528.0</td>\n",
       "      <td>180.0</td>\n",
       "    </tr>\n",
       "    <tr>\n",
       "      <th>Feyenoord</th>\n",
       "      <td>138.0</td>\n",
       "      <td>516.0</td>\n",
       "      <td>162.0</td>\n",
       "    </tr>\n",
       "    <tr>\n",
       "      <th>Liverpool</th>\n",
       "      <td>138.0</td>\n",
       "      <td>516.0</td>\n",
       "      <td>258.0</td>\n",
       "    </tr>\n",
       "    <tr>\n",
       "      <th>Paris Saint-Germain</th>\n",
       "      <td>90.0</td>\n",
       "      <td>510.0</td>\n",
       "      <td>160.0</td>\n",
       "    </tr>\n",
       "    <tr>\n",
       "      <th>FC Twente</th>\n",
       "      <td>114.0</td>\n",
       "      <td>510.0</td>\n",
       "      <td>192.0</td>\n",
       "    </tr>\n",
       "    <tr>\n",
       "      <th>AZ</th>\n",
       "      <td>168.0</td>\n",
       "      <td>492.0</td>\n",
       "      <td>156.0</td>\n",
       "    </tr>\n",
       "    <tr>\n",
       "      <th>Lazio</th>\n",
       "      <td>234.0</td>\n",
       "      <td>486.0</td>\n",
       "      <td>186.0</td>\n",
       "    </tr>\n",
       "    <tr>\n",
       "      <th>SC Braga</th>\n",
       "      <td>150.0</td>\n",
       "      <td>486.0</td>\n",
       "      <td>108.0</td>\n",
       "    </tr>\n",
       "    <tr>\n",
       "      <th>Fiorentina</th>\n",
       "      <td>198.0</td>\n",
       "      <td>480.0</td>\n",
       "      <td>222.0</td>\n",
       "    </tr>\n",
       "    <tr>\n",
       "      <th>...</th>\n",
       "      <td>...</td>\n",
       "      <td>...</td>\n",
       "      <td>...</td>\n",
       "    </tr>\n",
       "    <tr>\n",
       "      <th>Pescara</th>\n",
       "      <td>70.0</td>\n",
       "      <td>20.0</td>\n",
       "      <td>5.0</td>\n",
       "    </tr>\n",
       "    <tr>\n",
       "      <th>Le Havre AC</th>\n",
       "      <td>75.0</td>\n",
       "      <td>20.0</td>\n",
       "      <td>NaN</td>\n",
       "    </tr>\n",
       "    <tr>\n",
       "      <th>Grenoble Foot 38</th>\n",
       "      <td>32.0</td>\n",
       "      <td>20.0</td>\n",
       "      <td>24.0</td>\n",
       "    </tr>\n",
       "    <tr>\n",
       "      <th>Eintracht Braunschweig</th>\n",
       "      <td>36.0</td>\n",
       "      <td>20.0</td>\n",
       "      <td>12.0</td>\n",
       "    </tr>\n",
       "    <tr>\n",
       "      <th>Royal Excel Mouscron</th>\n",
       "      <td>19.0</td>\n",
       "      <td>18.0</td>\n",
       "      <td>10.0</td>\n",
       "    </tr>\n",
       "    <tr>\n",
       "      <th>Xerez Club Deportivo</th>\n",
       "      <td>27.0</td>\n",
       "      <td>18.0</td>\n",
       "      <td>12.0</td>\n",
       "    </tr>\n",
       "    <tr>\n",
       "      <th>Frosinone</th>\n",
       "      <td>27.0</td>\n",
       "      <td>18.0</td>\n",
       "      <td>12.0</td>\n",
       "    </tr>\n",
       "    <tr>\n",
       "      <th>KV Oostende</th>\n",
       "      <td>9.0</td>\n",
       "      <td>17.0</td>\n",
       "      <td>7.0</td>\n",
       "    </tr>\n",
       "    <tr>\n",
       "      <th>Novara</th>\n",
       "      <td>24.0</td>\n",
       "      <td>16.0</td>\n",
       "      <td>32.0</td>\n",
       "    </tr>\n",
       "    <tr>\n",
       "      <th>Reggio Calabria</th>\n",
       "      <td>35.0</td>\n",
       "      <td>15.0</td>\n",
       "      <td>45.0</td>\n",
       "    </tr>\n",
       "    <tr>\n",
       "      <th>AC Arles-Avignon</th>\n",
       "      <td>66.0</td>\n",
       "      <td>12.0</td>\n",
       "      <td>36.0</td>\n",
       "    </tr>\n",
       "    <tr>\n",
       "      <th>Górnik Łęczna</th>\n",
       "      <td>10.0</td>\n",
       "      <td>12.0</td>\n",
       "      <td>8.0</td>\n",
       "    </tr>\n",
       "    <tr>\n",
       "      <th>Sparta Rotterdam</th>\n",
       "      <td>14.0</td>\n",
       "      <td>12.0</td>\n",
       "      <td>8.0</td>\n",
       "    </tr>\n",
       "    <tr>\n",
       "      <th>Carpi</th>\n",
       "      <td>16.0</td>\n",
       "      <td>12.0</td>\n",
       "      <td>10.0</td>\n",
       "    </tr>\n",
       "    <tr>\n",
       "      <th>US Boulogne Cote D'Opale</th>\n",
       "      <td>30.0</td>\n",
       "      <td>12.0</td>\n",
       "      <td>15.0</td>\n",
       "    </tr>\n",
       "    <tr>\n",
       "      <th>Boavista FC</th>\n",
       "      <td>15.0</td>\n",
       "      <td>11.0</td>\n",
       "      <td>7.0</td>\n",
       "    </tr>\n",
       "    <tr>\n",
       "      <th>GFC Ajaccio</th>\n",
       "      <td>14.0</td>\n",
       "      <td>10.0</td>\n",
       "      <td>14.0</td>\n",
       "    </tr>\n",
       "    <tr>\n",
       "      <th>FC Vaduz</th>\n",
       "      <td>22.0</td>\n",
       "      <td>10.0</td>\n",
       "      <td>20.0</td>\n",
       "    </tr>\n",
       "    <tr>\n",
       "      <th>Odra Wodzisław</th>\n",
       "      <td>12.0</td>\n",
       "      <td>10.0</td>\n",
       "      <td>8.0</td>\n",
       "    </tr>\n",
       "    <tr>\n",
       "      <th>Falkirk</th>\n",
       "      <td>17.0</td>\n",
       "      <td>9.0</td>\n",
       "      <td>10.0</td>\n",
       "    </tr>\n",
       "    <tr>\n",
       "      <th>Leixões SC</th>\n",
       "      <td>10.0</td>\n",
       "      <td>9.0</td>\n",
       "      <td>11.0</td>\n",
       "    </tr>\n",
       "    <tr>\n",
       "      <th>KSV Roeselare</th>\n",
       "      <td>16.0</td>\n",
       "      <td>8.0</td>\n",
       "      <td>7.0</td>\n",
       "    </tr>\n",
       "    <tr>\n",
       "      <th>DSC Arminia Bielefeld</th>\n",
       "      <td>21.0</td>\n",
       "      <td>6.0</td>\n",
       "      <td>24.0</td>\n",
       "    </tr>\n",
       "    <tr>\n",
       "      <th>Córdoba CF</th>\n",
       "      <td>60.0</td>\n",
       "      <td>5.0</td>\n",
       "      <td>30.0</td>\n",
       "    </tr>\n",
       "    <tr>\n",
       "      <th>FC Penafiel</th>\n",
       "      <td>11.0</td>\n",
       "      <td>3.0</td>\n",
       "      <td>3.0</td>\n",
       "    </tr>\n",
       "    <tr>\n",
       "      <th>FC Dordrecht</th>\n",
       "      <td>10.0</td>\n",
       "      <td>3.0</td>\n",
       "      <td>4.0</td>\n",
       "    </tr>\n",
       "    <tr>\n",
       "      <th>KAS Eupen</th>\n",
       "      <td>9.0</td>\n",
       "      <td>3.0</td>\n",
       "      <td>3.0</td>\n",
       "    </tr>\n",
       "    <tr>\n",
       "      <th>SV Darmstadt 98</th>\n",
       "      <td>9.0</td>\n",
       "      <td>2.0</td>\n",
       "      <td>6.0</td>\n",
       "    </tr>\n",
       "    <tr>\n",
       "      <th>Dunfermline Athletic</th>\n",
       "      <td>11.0</td>\n",
       "      <td>1.0</td>\n",
       "      <td>7.0</td>\n",
       "    </tr>\n",
       "    <tr>\n",
       "      <th>SpVgg Greuther Fürth</th>\n",
       "      <td>78.0</td>\n",
       "      <td>NaN</td>\n",
       "      <td>24.0</td>\n",
       "    </tr>\n",
       "  </tbody>\n",
       "</table>\n",
       "<p>285 rows × 3 columns</p>\n",
       "</div>"
      ],
      "text/plain": [
       "result                    away win  home win    tie\n",
       "home_team                                          \n",
       "FC Barcelona                  54.0     786.0   72.0\n",
       "Real Madrid CF                72.0     774.0   66.0\n",
       "Celtic                        54.0     702.0  138.0\n",
       "Manchester United            120.0     696.0   96.0\n",
       "Manchester City              126.0     678.0  108.0\n",
       "FC Bayern Munich              78.0     654.0   84.0\n",
       "Juventus                      96.0     630.0  180.0\n",
       "PSV                           78.0     630.0  108.0\n",
       "Atlético Madrid              150.0     618.0  144.0\n",
       "Ajax                          54.0     618.0  144.0\n",
       "SL Benfica                    42.0     612.0   90.0\n",
       "FC Porto                      36.0     612.0   96.0\n",
       "Chelsea                      102.0     606.0  204.0\n",
       "Roma                         114.0     582.0  210.0\n",
       "Arsenal                      126.0     582.0  204.0\n",
       "Napoli                       102.0     570.0  228.0\n",
       "LOSC Lille                   120.0     558.0  234.0\n",
       "Milan                        150.0     552.0  204.0\n",
       "Sevilla FC                   204.0     546.0  162.0\n",
       "Inter                        144.0     540.0  222.0\n",
       "Tottenham Hotspur            168.0     528.0  216.0\n",
       "Borussia Dortmund            108.0     528.0  180.0\n",
       "Feyenoord                    138.0     516.0  162.0\n",
       "Liverpool                    138.0     516.0  258.0\n",
       "Paris Saint-Germain           90.0     510.0  160.0\n",
       "FC Twente                    114.0     510.0  192.0\n",
       "AZ                           168.0     492.0  156.0\n",
       "Lazio                        234.0     486.0  186.0\n",
       "SC Braga                     150.0     486.0  108.0\n",
       "Fiorentina                   198.0     480.0  222.0\n",
       "...                            ...       ...    ...\n",
       "Pescara                       70.0      20.0    5.0\n",
       "Le Havre AC                   75.0      20.0    NaN\n",
       "Grenoble Foot 38              32.0      20.0   24.0\n",
       "Eintracht Braunschweig        36.0      20.0   12.0\n",
       "Royal Excel Mouscron          19.0      18.0   10.0\n",
       "Xerez Club Deportivo          27.0      18.0   12.0\n",
       "Frosinone                     27.0      18.0   12.0\n",
       "KV Oostende                    9.0      17.0    7.0\n",
       "Novara                        24.0      16.0   32.0\n",
       "Reggio Calabria               35.0      15.0   45.0\n",
       "AC Arles-Avignon              66.0      12.0   36.0\n",
       "Górnik Łęczna                 10.0      12.0    8.0\n",
       "Sparta Rotterdam              14.0      12.0    8.0\n",
       "Carpi                         16.0      12.0   10.0\n",
       "US Boulogne Cote D'Opale      30.0      12.0   15.0\n",
       "Boavista FC                   15.0      11.0    7.0\n",
       "GFC Ajaccio                   14.0      10.0   14.0\n",
       "FC Vaduz                      22.0      10.0   20.0\n",
       "Odra Wodzisław                12.0      10.0    8.0\n",
       "Falkirk                       17.0       9.0   10.0\n",
       "Leixões SC                    10.0       9.0   11.0\n",
       "KSV Roeselare                 16.0       8.0    7.0\n",
       "DSC Arminia Bielefeld         21.0       6.0   24.0\n",
       "Córdoba CF                    60.0       5.0   30.0\n",
       "FC Penafiel                   11.0       3.0    3.0\n",
       "FC Dordrecht                  10.0       3.0    4.0\n",
       "KAS Eupen                      9.0       3.0    3.0\n",
       "SV Darmstadt 98                9.0       2.0    6.0\n",
       "Dunfermline Athletic          11.0       1.0    7.0\n",
       "SpVgg Greuther Fürth          78.0       NaN   24.0\n",
       "\n",
       "[285 rows x 3 columns]"
      ]
     },
     "execution_count": 77,
     "metadata": {},
     "output_type": "execute_result"
    }
   ],
   "source": [
    "df_Match_Team_Coun_Leag.groupby(['home_team','result']).size().unstack('result').sort_values(by='home win',ascending=False)"
   ]
  },
  {
   "cell_type": "code",
   "execution_count": 78,
   "metadata": {},
   "outputs": [
    {
     "data": {
      "image/png": "[encoded data removed]",
      "text/plain": [
       "<matplotlib.figure.Figure at 0x7f25fa688710>"
      ]
     },
     "metadata": {
      "needs_background": "light"
     },
     "output_type": "display_data"
    }
   ],
   "source": [
    "(df_Match_Team_Coun_Leag.groupby(['home_team','result'])\n",
    "                        .size()\n",
    "                        .unstack('result')\n",
    "                        .sort_values(by='home win',ascending=False)[:10]\n",
    "                        .plot(kind='barh',figsize=[14.7,8.27],width=0.9));\n",
    "plt.title('Most Teams Wins');\n",
    "plt.xlabel('No of Matches');\n",
    "plt.ylabel('Team Name');"
   ]
  },
  {
   "cell_type": "markdown",
   "metadata": {},
   "source": [
    "# Communication 1\n",
    "## BAR chart for 10 most team wins in the period betn 2008 - 2016 \n",
    "### I’d like you to look at this graph , Let me show you that :-\n",
    "#### FC Barcelona is the most team wins , and FC Bayern  is in the 6 place"
   ]
  },
  {
   "cell_type": "markdown",
   "metadata": {},
   "source": [
    "# Research Q2. which players had the most penalties ?"
   ]
  },
  {
   "cell_type": "code",
   "execution_count": 79,
   "metadata": {},
   "outputs": [],
   "source": [
    "df_Player_Attributes_cleaned.fillna(df_Player_Attributes_cleaned.mean(),inplace=True)"
   ]
  },
  {
   "cell_type": "code",
   "execution_count": 80,
   "metadata": {},
   "outputs": [
    {
     "data": {
      "text/plain": [
       "player_name\n",
       "Rickie Lambert     96.0\n",
       "Mario Balotelli    95.0\n",
       "Andrea Pirlo       95.0\n",
       "Xavi Hernandez     95.0\n",
       "Paul Scholes       95.0\n",
       "David Trezeguet    94.0\n",
       "Roy Makaay         94.0\n",
       "Paolo Maldini      94.0\n",
       "Adrian Mutu        94.0\n",
       "Cesc Fabregas      94.0\n",
       "Name: penalties, dtype: float64"
      ]
     },
     "execution_count": 80,
     "metadata": {},
     "output_type": "execute_result"
    }
   ],
   "source": [
    "df_comp1=pd.merge(df_Player_Attributes_cleaned,df_Player,on='player_api_id',how='inner')\n",
    "df_comp1.groupby('player_name')['penalties'].max().sort_values(ascending=False).head(10)"
   ]
  },
  {
   "cell_type": "code",
   "execution_count": 81,
   "metadata": {},
   "outputs": [
    {
     "data": {
      "image/png": "[encoded data removed]",
      "text/plain": [
       "<matplotlib.figure.Figure at 0x7f26035dcd30>"
      ]
     },
     "metadata": {},
     "output_type": "display_data"
    }
   ],
   "source": [
    "df_comp1.groupby('player_name')['penalties'].max().sort_values(ascending=False)[:10].plot(kind='pie',figsize=[7,7]);\n",
    "\n",
    "plt.title('Most player penalties');\n",
    "plt.xlabel('Player Names');\n",
    "plt.ylabel('No of penalties');"
   ]
  },
  {
   "cell_type": "markdown",
   "metadata": {},
   "source": [
    "# Communication 2 \n",
    "## PIE chart for 10 most players had penalties in the period betn 2008 - 2016 \n",
    "### I’d like you to look at this graph , Let me show you that :-\n",
    "#### all 10 top players seem the same , but the most player is  Rickie Lambert   with  96.0 \n"
   ]
  },
  {
   "cell_type": "code",
   "execution_count": 82,
   "metadata": {
    "scrolled": true
   },
   "outputs": [
    {
     "data": {
      "image/png": "[encoded data removed]",
      "text/plain": [
       "<matplotlib.figure.Figure at 0x7f2602929d68>"
      ]
     },
     "metadata": {
      "needs_background": "light"
     },
     "output_type": "display_data"
    }
   ],
   "source": [
    "df_comp1.groupby('player_name')['penalties'].max().sort_values(ascending=False)[:10].hist(figsize=[5,5]);"
   ]
  },
  {
   "cell_type": "markdown",
   "metadata": {},
   "source": [
    "### this is a histogram for most Numbers of penalties ( 94) is the most repeated , then (95)"
   ]
  },
  {
   "cell_type": "markdown",
   "metadata": {},
   "source": [
    "## Another soln. Using SQL"
   ]
  },
  {
   "cell_type": "code",
   "execution_count": 83,
   "metadata": {},
   "outputs": [
    {
     "data": {
      "text/plain": [
       "Index(['player_fifa_api_id', 'player_api_id', 'penalties'], dtype='object')"
      ]
     },
     "execution_count": 83,
     "metadata": {},
     "output_type": "execute_result"
    }
   ],
   "source": [
    "df_Player_Attributes.columns\n",
    " "
   ]
  },
  {
   "cell_type": "code",
   "execution_count": 84,
   "metadata": {},
   "outputs": [
    {
     "data": {
      "text/html": [
       "<div>\n",
       "<style scoped>\n",
       "    .dataframe tbody tr th:only-of-type {\n",
       "        vertical-align: middle;\n",
       "    }\n",
       "\n",
       "    .dataframe tbody tr th {\n",
       "        vertical-align: top;\n",
       "    }\n",
       "\n",
       "    .dataframe thead th {\n",
       "        text-align: right;\n",
       "    }\n",
       "</style>\n",
       "<table border=\"1\" class=\"dataframe\">\n",
       "  <thead>\n",
       "    <tr style=\"text-align: right;\">\n",
       "      <th></th>\n",
       "      <th>player_api_id</th>\n",
       "      <th>player_name</th>\n",
       "      <th>player_api_id</th>\n",
       "      <th>penalties</th>\n",
       "    </tr>\n",
       "  </thead>\n",
       "  <tbody>\n",
       "    <tr>\n",
       "      <th>0</th>\n",
       "      <td>505942</td>\n",
       "      <td>Aaron Appindangoye</td>\n",
       "      <td>505942</td>\n",
       "      <td>48.0</td>\n",
       "    </tr>\n",
       "    <tr>\n",
       "      <th>1</th>\n",
       "      <td>505942</td>\n",
       "      <td>Aaron Appindangoye</td>\n",
       "      <td>505942</td>\n",
       "      <td>48.0</td>\n",
       "    </tr>\n",
       "    <tr>\n",
       "      <th>2</th>\n",
       "      <td>505942</td>\n",
       "      <td>Aaron Appindangoye</td>\n",
       "      <td>505942</td>\n",
       "      <td>48.0</td>\n",
       "    </tr>\n",
       "    <tr>\n",
       "      <th>3</th>\n",
       "      <td>505942</td>\n",
       "      <td>Aaron Appindangoye</td>\n",
       "      <td>505942</td>\n",
       "      <td>47.0</td>\n",
       "    </tr>\n",
       "    <tr>\n",
       "      <th>4</th>\n",
       "      <td>505942</td>\n",
       "      <td>Aaron Appindangoye</td>\n",
       "      <td>505942</td>\n",
       "      <td>47.0</td>\n",
       "    </tr>\n",
       "  </tbody>\n",
       "</table>\n",
       "</div>"
      ],
      "text/plain": [
       "   player_api_id         player_name  player_api_id  penalties\n",
       "0         505942  Aaron Appindangoye         505942       48.0\n",
       "1         505942  Aaron Appindangoye         505942       48.0\n",
       "2         505942  Aaron Appindangoye         505942       48.0\n",
       "3         505942  Aaron Appindangoye         505942       47.0\n",
       "4         505942  Aaron Appindangoye         505942       47.0"
      ]
     },
     "execution_count": 84,
     "metadata": {},
     "output_type": "execute_result"
    }
   ],
   "source": [
    "df_Compined_Data_Player=pd.read_sql_query(\"\"\"SELECT Player.player_api_id , Player.player_name,\n",
    "                             Player_Attributes.player_api_id , Player_Attributes.penalties\n",
    "                             FROM Player\n",
    "                             INNER JOIN Player_Attributes ON\n",
    "                             Player.player_api_id = Player_Attributes.player_api_id ; \"\"\",engine) \n",
    "df_Compined_Data_Player.head()                             \n",
    "\n"
   ]
  },
  {
   "cell_type": "code",
   "execution_count": 85,
   "metadata": {
    "scrolled": true
   },
   "outputs": [
    {
     "data": {
      "text/plain": [
       "player_name\n",
       "Rickie Lambert     96.0\n",
       "Mario Balotelli    95.0\n",
       "Andrea Pirlo       95.0\n",
       "Xavi Hernandez     95.0\n",
       "Paul Scholes       95.0\n",
       "Paolo Maldini      94.0\n",
       "David Trezeguet    94.0\n",
       "Fabio Cannavaro    94.0\n",
       "Roy Makaay         94.0\n",
       "Cesc Fabregas      94.0\n",
       "Name: penalties, dtype: float64"
      ]
     },
     "execution_count": 85,
     "metadata": {},
     "output_type": "execute_result"
    }
   ],
   "source": [
    "df_Compined_Data_Player.groupby('player_name')['penalties'].max().sort_values(ascending=False).head(10)\n"
   ]
  },
  {
   "cell_type": "code",
   "execution_count": 86,
   "metadata": {},
   "outputs": [
    {
     "data": {
      "image/png": "[encoded data removed]",
      "text/plain": [
       "<matplotlib.figure.Figure at 0x7f26013fbac8>"
      ]
     },
     "metadata": {
      "needs_background": "light"
     },
     "output_type": "display_data"
    }
   ],
   "source": [
    "df_Compined_Data_Player.groupby('player_name')['penalties'].max().sort_values(ascending=False).head(10).plot(kind='barh',figsize=(7,7),width=.5);\n",
    "plt.title('Most player had Penalties');\n",
    "plt.xlabel('No of penalties');\n",
    "plt.ylabel('Player Name');"
   ]
  },
  {
   "cell_type": "code",
   "execution_count": 92,
   "metadata": {},
   "outputs": [],
   "source": [
    "df_comp1_correlation=df_comp1.corr(method='pearson')"
   ]
  },
  {
   "cell_type": "code",
   "execution_count": null,
   "metadata": {},
   "outputs": [],
   "source": [
    "pd.plotting.scatter_matrix(df_comp1,figsize=(15,15));"
   ]
  },
  {
   "cell_type": "markdown",
   "metadata": {},
   "source": [
    "<a id='conclusions'></a>\n",
    "# Conclusions\n",
    "\n",
    "### Finally i succeeded in the analysis of data for European soccer players and teams , to get :\n",
    "#### 1- most team victories\n",
    "#### 2- most players had penalties\n",
    "\n",
    "\n",
    "## Limitations\n",
    "\n",
    "##### I faced many problems like :\n",
    "1- the data wasn't clear enough to deal with it , but i have to drop Nan values and remove unused columns .\n",
    "\n",
    "2- to answer the first question i had to create a new columns indicates to result , then i do (unstack()) function to extract 3 variables .\n",
    "\n",
    "3- the major diffculties were to join all tables to get what information we need it\n",
    "\n",
    "4- there are many columns unuseful and they are removed \n",
    " \n"
   ]
  },
  {
   "cell_type": "markdown",
   "metadata": {},
   "source": [
    "## Submitting your Project "
   ]
  },
  {
   "cell_type": "code",
   "execution_count": 88,
   "metadata": {},
   "outputs": [
    {
     "data": {
      "text/plain": [
       "0"
      ]
     },
     "execution_count": 88,
     "metadata": {},
     "output_type": "execute_result"
    }
   ],
   "source": [
    "from subprocess import call\n",
    "call(['python', '-m', 'nbconvert', 'Investigate_a_Dataset_Soccer DB Sql.ipynb'])"
   ]
  },
  {
   "cell_type": "code",
   "execution_count": null,
   "metadata": {},
   "outputs": [],
   "source": []
  }
 ],
 "metadata": {
  "kernelspec": {
   "display_name": "Python 3",
   "language": "python",
   "name": "python3"
  },
  "language_info": {
   "codemirror_mode": {
    "name": "ipython",
    "version": 3
   },
   "file_extension": ".py",
   "mimetype": "text/x-python",
   "name": "python",
   "nbconvert_exporter": "python",
   "pygments_lexer": "ipython3",
   "version": "3.6.3"
  }
 },
 "nbformat": 4,
 "nbformat_minor": 2
}
